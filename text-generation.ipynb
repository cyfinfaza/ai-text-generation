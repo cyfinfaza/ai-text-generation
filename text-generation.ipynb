{
 "cells": [
  {
   "cell_type": "markdown",
   "source": [
    "# Text generation with an RNN \r\n",
    "(Originally © The Tensorflow Authors)"
   ],
   "metadata": {
    "id": "ovpZyIhNIgoq"
   }
  },
  {
   "cell_type": "markdown",
   "source": [
    "## Setup"
   ],
   "metadata": {
    "id": "srXC6pLGLwS6"
   }
  },
  {
   "cell_type": "markdown",
   "source": [
    "### Import TensorFlow and other libraries"
   ],
   "metadata": {
    "id": "WGyKZj3bzf9p"
   }
  },
  {
   "cell_type": "code",
   "execution_count": 1,
   "source": [
    "import tensorflow as tf\r\n",
    "from tensorflow.keras.layers.experimental import preprocessing\r\n",
    "\r\n",
    "import numpy as np\r\n",
    "import os\r\n",
    "import time\r\n",
    "\r\n",
    "print(\"GPU is\", \"available\" if tf.config.list_physical_devices(\"GPU\") else \"NOT AVAILABLE\")"
   ],
   "outputs": [
    {
     "output_type": "stream",
     "name": "stdout",
     "text": [
      "GPU is available\n"
     ]
    }
   ],
   "metadata": {
    "id": "yG_n40gFzf9s"
   }
  },
  {
   "cell_type": "markdown",
   "source": [
    "### Get dataset and define set name for storage later on"
   ],
   "metadata": {
    "id": "EHDoRoc5PKWz"
   }
  },
  {
   "cell_type": "code",
   "execution_count": 2,
   "source": [
    "path_to_file = 'python.txt'\r\n",
    "SET_NAME = 'python'"
   ],
   "outputs": [],
   "metadata": {
    "colab": {
     "base_uri": "https://localhost:8080/"
    },
    "id": "pD_55cOxLkAb",
    "outputId": "3397fa72-efd0-44f3-d20c-d847a12af5ad"
   }
  },
  {
   "cell_type": "markdown",
   "source": [
    "### Read the data\n",
    "\n",
    "First, look in the text:"
   ],
   "metadata": {
    "id": "UHjdCjDuSvX_"
   }
  },
  {
   "cell_type": "code",
   "execution_count": 3,
   "source": [
    "# Read, then decode for py2 compat.\r\n",
    "text = open(path_to_file, 'rb').read().decode(encoding='utf-8')\r\n",
    "# length of text is the number of characters in it\r\n",
    "print(f'Length of text: {len(text)} characters')"
   ],
   "outputs": [
    {
     "output_type": "stream",
     "name": "stdout",
     "text": [
      "Length of text: 44684897 characters\n"
     ]
    }
   ],
   "metadata": {
    "colab": {
     "base_uri": "https://localhost:8080/"
    },
    "id": "aavnuByVymwK",
    "outputId": "0e2eb70a-5067-411c-8162-10c33b440d4d"
   }
  },
  {
   "cell_type": "code",
   "execution_count": 4,
   "source": [
    "# Take a look at the first 250 characters in text\r\n",
    "print(text[:250])"
   ],
   "outputs": [
    {
     "output_type": "stream",
     "name": "stdout",
     "text": [
      "# Copyright 2017 The TensorFlow Authors. All Rights Reserved.\n",
      "#\n",
      "# Licensed under the Apache License, Version 2.0 (the \"License\");\n",
      "# you may not use this file except in compliance with the License.\n",
      "# You may obtain a copy of the License at\n",
      "#\n",
      "#     htt\n"
     ]
    }
   ],
   "metadata": {
    "colab": {
     "base_uri": "https://localhost:8080/"
    },
    "id": "Duhg9NrUymwO",
    "outputId": "bed19529-5b3b-4f4e-c6d2-801af08a6ced"
   }
  },
  {
   "cell_type": "code",
   "execution_count": 5,
   "source": [
    "# The unique characters in the file\r\n",
    "vocab = sorted(set(text))\r\n",
    "print(f'{len(vocab)} unique characters')"
   ],
   "outputs": [
    {
     "output_type": "stream",
     "name": "stdout",
     "text": [
      "167 unique characters\n"
     ]
    }
   ],
   "metadata": {
    "colab": {
     "base_uri": "https://localhost:8080/"
    },
    "id": "IlCgQBRVymwR",
    "outputId": "8a3e04f4-010e-4e25-b6a0-d8941781dcd3"
   }
  },
  {
   "cell_type": "markdown",
   "source": [
    "## Process the text"
   ],
   "metadata": {
    "id": "rNnrKn_lL-IJ"
   }
  },
  {
   "cell_type": "markdown",
   "source": [
    "### Vectorize the text\n",
    "\n",
    "Before training, you need to convert the strings to a numerical representation. \n",
    "\n",
    "The `preprocessing.StringLookup` layer can convert each character into a numeric ID. It just needs the text to be split into tokens first."
   ],
   "metadata": {
    "id": "LFjSVAlWzf-N"
   }
  },
  {
   "cell_type": "code",
   "execution_count": 6,
   "source": [
    "example_texts = ['abcdefg', 'xyz']\r\n",
    "\r\n",
    "chars = tf.strings.unicode_split(example_texts, input_encoding='UTF-8')\r\n",
    "chars"
   ],
   "outputs": [
    {
     "output_type": "execute_result",
     "data": {
      "text/plain": [
       "<tf.RaggedTensor [[b'a', b'b', b'c', b'd', b'e', b'f', b'g'], [b'x', b'y', b'z']]>"
      ]
     },
     "metadata": {},
     "execution_count": 6
    }
   ],
   "metadata": {
    "colab": {
     "base_uri": "https://localhost:8080/"
    },
    "id": "a86OoYtO01go",
    "outputId": "e1619acf-bede-44e5-daf2-064cd268eea2"
   }
  },
  {
   "cell_type": "markdown",
   "source": [
    "Now create the `preprocessing.StringLookup` layer:"
   ],
   "metadata": {
    "id": "1s4f1q3iqY8f"
   }
  },
  {
   "cell_type": "code",
   "execution_count": 7,
   "source": [
    "ids_from_chars = preprocessing.StringLookup(\r\n",
    "    vocabulary=list(vocab), mask_token=None)"
   ],
   "outputs": [],
   "metadata": {
    "id": "6GMlCe3qzaL9"
   }
  },
  {
   "cell_type": "markdown",
   "source": [
    "It converts form tokens to character IDs:"
   ],
   "metadata": {
    "id": "ZmX_jbgQqfOi"
   }
  },
  {
   "cell_type": "code",
   "execution_count": 8,
   "source": [
    "ids = ids_from_chars(chars)\r\n",
    "ids"
   ],
   "outputs": [
    {
     "output_type": "execute_result",
     "data": {
      "text/plain": [
       "<tf.RaggedTensor [[67, 68, 69, 70, 71, 72, 73], [90, 91, 92]]>"
      ]
     },
     "metadata": {},
     "execution_count": 8
    }
   ],
   "metadata": {
    "colab": {
     "base_uri": "https://localhost:8080/"
    },
    "id": "WLv5Q_2TC2pc",
    "outputId": "2bffb481-1153-4c7a-c271-4a9a66c04e0d"
   }
  },
  {
   "cell_type": "markdown",
   "source": [
    "Since the goal of this tutorial is to generate text, it will also be important to invert this representation and recover human-readable strings from it. For this you can use `preprocessing.StringLookup(..., invert=True)`.  "
   ],
   "metadata": {
    "id": "tZfqhkYCymwX"
   }
  },
  {
   "cell_type": "markdown",
   "source": [
    "Note: Here instead of passing the original vocabulary generated with `sorted(set(text))` use the `get_vocabulary()` method of the `preprocessing.StringLookup` layer so that the `[UNK]` tokens is set the same way."
   ],
   "metadata": {
    "id": "uenivzwqsDhp"
   }
  },
  {
   "cell_type": "code",
   "execution_count": 9,
   "source": [
    "chars_from_ids = tf.keras.layers.experimental.preprocessing.StringLookup(\r\n",
    "    vocabulary=ids_from_chars.get_vocabulary(), invert=True, mask_token=None)"
   ],
   "outputs": [],
   "metadata": {
    "id": "Wd2m3mqkDjRj"
   }
  },
  {
   "cell_type": "markdown",
   "source": [
    "This layer recovers the characters from the vectors of IDs, and returns them as a `tf.RaggedTensor` of characters:"
   ],
   "metadata": {
    "id": "pqTDDxS-s-H8"
   }
  },
  {
   "cell_type": "code",
   "execution_count": 10,
   "source": [
    "chars = chars_from_ids(ids)\r\n",
    "chars"
   ],
   "outputs": [
    {
     "output_type": "execute_result",
     "data": {
      "text/plain": [
       "<tf.RaggedTensor [[b'a', b'b', b'c', b'd', b'e', b'f', b'g'], [b'x', b'y', b'z']]>"
      ]
     },
     "metadata": {},
     "execution_count": 10
    }
   ],
   "metadata": {
    "colab": {
     "base_uri": "https://localhost:8080/"
    },
    "id": "c2GCh0ySD44s",
    "outputId": "792e97b6-adb5-4b94-cd79-eff7d1269cd6"
   }
  },
  {
   "cell_type": "markdown",
   "source": [
    "You can `tf.strings.reduce_join` to join the characters back into strings. "
   ],
   "metadata": {
    "id": "-FeW5gqutT3o"
   }
  },
  {
   "cell_type": "code",
   "execution_count": 11,
   "source": [
    "tf.strings.reduce_join(chars, axis=-1).numpy()"
   ],
   "outputs": [
    {
     "output_type": "execute_result",
     "data": {
      "text/plain": [
       "array([b'abcdefg', b'xyz'], dtype=object)"
      ]
     },
     "metadata": {},
     "execution_count": 11
    }
   ],
   "metadata": {
    "colab": {
     "base_uri": "https://localhost:8080/"
    },
    "id": "zxYI-PeltqKP",
    "outputId": "7f0b3523-b18b-4405-cd2b-0d6d531f0184"
   }
  },
  {
   "cell_type": "code",
   "execution_count": 12,
   "source": [
    "def text_from_ids(ids):\r\n",
    "  return tf.strings.reduce_join(chars_from_ids(ids), axis=-1)"
   ],
   "outputs": [],
   "metadata": {
    "id": "w5apvBDn9Ind"
   }
  },
  {
   "cell_type": "markdown",
   "source": [
    "### The prediction task"
   ],
   "metadata": {
    "id": "bbmsf23Bymwe"
   }
  },
  {
   "cell_type": "markdown",
   "source": [
    "Given a character, or a sequence of characters, what is the most probable next character? This is the task you're training the model to perform. The input to the model will be a sequence of characters, and you train the model to predict the output—the following character at each time step.\n",
    "\n",
    "Since RNNs maintain an internal state that depends on the previously seen elements, given all the characters computed until this moment, what is the next character?\n"
   ],
   "metadata": {
    "id": "wssHQ1oGymwe"
   }
  },
  {
   "cell_type": "markdown",
   "source": [
    "### Create training examples and targets\r\n",
    "\r\n",
    "Next divide the text into example sequences. Each input sequence will contain `seq_length` characters from the text.\r\n",
    "\r\n",
    "For each input sequence, the corresponding targets contain the same length of text, except shifted one character to the right.\r\n",
    "\r\n",
    "So break the text into chunks of `seq_length+1`. For example, say `seq_length` is 4 and our text is \"Hello\". The input sequence would be \"Hell\", and the target sequence \"ello\".\r\n",
    "\r\n",
    "To do this first use the `tf.data.Dataset.from_tensor_slices` function to convert the text vector into a stream of character indices."
   ],
   "metadata": {
    "id": "hgsVvVxnymwf"
   }
  },
  {
   "cell_type": "code",
   "execution_count": 13,
   "source": [
    "all_ids = ids_from_chars(tf.strings.unicode_split(text, 'UTF-8'))\r\n",
    "all_ids"
   ],
   "outputs": [
    {
     "output_type": "execute_result",
     "data": {
      "text/plain": [
       "<tf.Tensor: shape=(44684897,), dtype=int64, numpy=array([ 5,  2, 37, ..., 10, 11,  1], dtype=int64)>"
      ]
     },
     "metadata": {},
     "execution_count": 13
    }
   ],
   "metadata": {
    "colab": {
     "base_uri": "https://localhost:8080/"
    },
    "id": "UopbsKi88tm5",
    "outputId": "7ee91271-f3f9-4644-cfe2-3803c80207bb"
   }
  },
  {
   "cell_type": "code",
   "execution_count": 14,
   "source": [
    "ids_dataset = tf.data.Dataset.from_tensor_slices(all_ids)"
   ],
   "outputs": [],
   "metadata": {
    "id": "qmxrYDCTy-eL"
   }
  },
  {
   "cell_type": "code",
   "execution_count": 15,
   "source": [
    "for ids in ids_dataset.take(10):\r\n",
    "    print(chars_from_ids(ids).numpy().decode('utf-8'))"
   ],
   "outputs": [
    {
     "output_type": "stream",
     "name": "stdout",
     "text": [
      "#\n",
      " \n",
      "C\n",
      "o\n",
      "p\n",
      "y\n",
      "r\n",
      "i\n",
      "g\n",
      "h\n"
     ]
    }
   ],
   "metadata": {
    "colab": {
     "base_uri": "https://localhost:8080/"
    },
    "id": "cjH5v45-yqqH",
    "outputId": "19d7792f-be8e-4e24-fd2e-047b7af1bef8"
   }
  },
  {
   "cell_type": "code",
   "execution_count": 16,
   "source": [
    "seq_length = 1000\r\n",
    "examples_per_epoch = len(text)//(seq_length+1)"
   ],
   "outputs": [],
   "metadata": {
    "id": "C-G2oaTxy6km"
   }
  },
  {
   "cell_type": "markdown",
   "source": [
    "The `batch` method lets you easily convert these individual characters to sequences of the desired size."
   ],
   "metadata": {
    "id": "-ZSYAcQV8OGP"
   }
  },
  {
   "cell_type": "code",
   "execution_count": 17,
   "source": [
    "sequences = ids_dataset.batch(seq_length+1, drop_remainder=True)\r\n",
    "\r\n",
    "for seq in sequences.take(1):\r\n",
    "  print(chars_from_ids(seq))"
   ],
   "outputs": [
    {
     "output_type": "stream",
     "name": "stdout",
     "text": [
      "tf.Tensor([b'#' b' ' b'C' ... b'-' b't' b'o'], shape=(1001,), dtype=string)\n"
     ]
    }
   ],
   "metadata": {
    "colab": {
     "base_uri": "https://localhost:8080/"
    },
    "id": "BpdjRO2CzOfZ",
    "outputId": "d7afefe2-6603-4d9d-a679-a5c83d30e078"
   }
  },
  {
   "cell_type": "markdown",
   "source": [
    "It's easier to see what this is doing if you join the tokens back into strings:"
   ],
   "metadata": {
    "id": "5PHW902-4oZt"
   }
  },
  {
   "cell_type": "code",
   "execution_count": 18,
   "source": [
    "for seq in sequences.take(5):\r\n",
    "  print(text_from_ids(seq).numpy())"
   ],
   "outputs": [
    {
     "output_type": "stream",
     "name": "stdout",
     "text": [
      "b'# Copyright 2017 The TensorFlow Authors. All Rights Reserved.\\n#\\n# Licensed under the Apache License, Version 2.0 (the \"License\");\\n# you may not use this file except in compliance with the License.\\n# You may obtain a copy of the License at\\n#\\n#     http://www.apache.org/licenses/LICENSE-2.0\\n#\\n# Unless required by applicable law or agreed to in writing, software\\n# distributed under the License is distributed on an \"AS IS\" BASIS,\\n# WITHOUT WARRANTIES OR CONDITIONS OF ANY KIND, either express or implied.\\n# See the License for the specific language governing permissions and\\n# limitations under the License.\\n# ==============================================================================\\n\"\"\"configure script to get build parameters from user.\"\"\"\\n\\nfrom __future__ import absolute_import\\nfrom __future__ import division\\nfrom __future__ import print_function\\n\\nimport argparse\\nimport errno\\nimport glob\\nimport os\\nimport platform\\nimport re\\nimport subprocess\\nimport sys\\n\\n# pylint: disable=g-import-not-at-to'\n",
      "b\"p\\ntry:\\n  from shutil import which\\nexcept ImportError:\\n  from distutils.spawn import find_executable as which\\n# pylint: enable=g-import-not-at-top\\n\\n_DEFAULT_CUDA_VERSION = '10'\\n_DEFAULT_CUDNN_VERSION = '7'\\n_DEFAULT_TENSORRT_VERSION = '6'\\n_DEFAULT_CUDA_COMPUTE_CAPABILITIES = '3.5,7.0'\\n\\n_SUPPORTED_ANDROID_NDK_VERSIONS = [\\n    10, 11, 12, 13, 14, 15, 16, 17, 18, 19, 20, 21\\n]\\n\\n_DEFAULT_PROMPT_ASK_ATTEMPTS = 10\\n\\n_TF_BAZELRC_FILENAME = '.tf_configure.bazelrc'\\n_TF_WORKSPACE_ROOT = ''\\n_TF_BAZELRC = ''\\n_TF_CURRENT_BAZEL_VERSION = None\\n_TF_MIN_BAZEL_VERSION = '3.7.2'\\n_TF_MAX_BAZEL_VERSION = '3.99.0'\\n\\nNCCL_LIB_PATHS = [\\n    'lib64/', 'lib/powerpc64le-linux-gnu/', 'lib/x86_64-linux-gnu/', ''\\n]\\n\\n# List of files to configure when building Bazel on Apple platforms.\\nAPPLE_BAZEL_FILES = [\\n    'tensorflow/lite/ios/BUILD', 'tensorflow/lite/objc/BUILD',\\n    'tensorflow/lite/swift/BUILD',\\n    'tensorflow/lite/tools/benchmark/experimental/ios/BUILD'\\n]\\n\\n# List of files to move when building for iOS.\\nIOS_FILES \"\n",
      "b'= [\\n    \\'tensorflow/lite/objc/TensorFlowLiteObjC.podspec\\',\\n    \\'tensorflow/lite/swift/TensorFlowLiteSwift.podspec\\',\\n]\\n\\n\\nclass UserInputError(Exception):\\n  pass\\n\\n\\ndef is_windows():\\n  return platform.system() == \\'Windows\\'\\n\\n\\ndef is_linux():\\n  return platform.system() == \\'Linux\\'\\n\\n\\ndef is_macos():\\n  return platform.system() == \\'Darwin\\'\\n\\n\\ndef is_ppc64le():\\n  return platform.machine() == \\'ppc64le\\'\\n\\n\\ndef is_cygwin():\\n  return platform.system().startswith(\\'CYGWIN_NT\\')\\n\\n\\ndef get_input(question):\\n  try:\\n    try:\\n      answer = raw_input(question)\\n    except NameError:\\n      answer = input(question)  # pylint: disable=bad-builtin\\n  except EOFError:\\n    answer = \\'\\'\\n  return answer\\n\\n\\ndef symlink_force(target, link_name):\\n  \"\"\"Force symlink, equivalent of \\'ln -sf\\'.\\n\\n  Args:\\n    target: items to link to.\\n    link_name: name of the link.\\n  \"\"\"\\n  try:\\n    os.symlink(target, link_name)\\n  except OSError as e:\\n    if e.errno == errno.EEXIST:\\n      os.remove(link_name)\\n      os.symlink(target, link_name)\\n   '\n",
      "b' else:\\n      raise e\\n\\n\\ndef sed_in_place(filename, old, new):\\n  \"\"\"Replace old string with new string in file.\\n\\n  Args:\\n    filename: string for filename.\\n    old: string to replace.\\n    new: new string to replace to.\\n  \"\"\"\\n  with open(filename, \\'r\\') as f:\\n    filedata = f.read()\\n  newdata = filedata.replace(old, new)\\n  with open(filename, \\'w\\') as f:\\n    f.write(newdata)\\n\\n\\ndef write_to_bazelrc(line):\\n  with open(_TF_BAZELRC, \\'a\\') as f:\\n    f.write(line + \\'\\\\n\\')\\n\\n\\ndef write_action_env_to_bazelrc(var_name, var):\\n  write_to_bazelrc(\\'build --action_env {}=\"{}\"\\'.format(var_name, str(var)))\\n\\n\\ndef run_shell(cmd, allow_non_zero=False, stderr=None):\\n  if stderr is None:\\n    stderr = sys.stdout\\n  if allow_non_zero:\\n    try:\\n      output = subprocess.check_output(cmd, stderr=stderr)\\n    except subprocess.CalledProcessError as e:\\n      output = e.output\\n  else:\\n    output = subprocess.check_output(cmd, stderr=stderr)\\n  return output.decode(\\'UTF-8\\').strip()\\n\\n\\ndef cygpath(path):\\n  \"\"\"Convert path from '\n",
      "b'posix to windows.\"\"\"\\n  return os.path.abspath(path).replace(\\'\\\\\\\\\\', \\'/\\')\\n\\n\\ndef get_python_path(environ_cp, python_bin_path):\\n  \"\"\"Get the python site package paths.\"\"\"\\n  python_paths = []\\n  if environ_cp.get(\\'PYTHONPATH\\'):\\n    python_paths = environ_cp.get(\\'PYTHONPATH\\').split(\\':\\')\\n  try:\\n    stderr = open(os.devnull, \\'wb\\')\\n    library_paths = run_shell([\\n        python_bin_path, \\'-c\\',\\n        \\'import site; print(\"\\\\\\\\n\".join(site.getsitepackages()))\\'\\n    ],\\n                              stderr=stderr).split(\\'\\\\n\\')\\n  except subprocess.CalledProcessError:\\n    library_paths = [\\n        run_shell([\\n            python_bin_path, \\'-c\\',\\n            \\'from distutils.sysconfig import get_python_lib;\\'\\n            \\'print(get_python_lib())\\'\\n        ])\\n    ]\\n\\n  all_paths = set(python_paths + library_paths)\\n  # Sort set so order is deterministic\\n  all_paths = sorted(all_paths)\\n\\n  paths = []\\n  for path in all_paths:\\n    if os.path.isdir(path):\\n      paths.append(path)\\n  return paths\\n\\n\\ndef get_python_major_ve'\n"
     ]
    }
   ],
   "metadata": {
    "colab": {
     "base_uri": "https://localhost:8080/"
    },
    "id": "QO32cMWu4a06",
    "outputId": "0f02deac-3a4a-49da-c7c3-d2425241d0fb"
   }
  },
  {
   "cell_type": "markdown",
   "source": [
    "For training you'll need a dataset of `(input, label)` pairs. Where `input` and \n",
    "`label` are sequences. At each time step the input is the current character and the label is the next character. \n",
    "\n",
    "Here's a function that takes a sequence as input, duplicates, and shifts it to align the input and label for each timestep:"
   ],
   "metadata": {
    "id": "UbLcIPBj_mWZ"
   }
  },
  {
   "cell_type": "code",
   "execution_count": 19,
   "source": [
    "def split_input_target(sequence):\r\n",
    "    input_text = sequence[:-1]\r\n",
    "    target_text = sequence[1:]\r\n",
    "    return input_text, target_text"
   ],
   "outputs": [],
   "metadata": {
    "id": "9NGu-FkO_kYU"
   }
  },
  {
   "cell_type": "code",
   "execution_count": 20,
   "source": [
    "split_input_target(list(\"Tensorflow\"))"
   ],
   "outputs": [
    {
     "output_type": "execute_result",
     "data": {
      "text/plain": [
       "(['T', 'e', 'n', 's', 'o', 'r', 'f', 'l', 'o'],\n",
       " ['e', 'n', 's', 'o', 'r', 'f', 'l', 'o', 'w'])"
      ]
     },
     "metadata": {},
     "execution_count": 20
    }
   ],
   "metadata": {
    "colab": {
     "base_uri": "https://localhost:8080/"
    },
    "id": "WxbDTJTw5u_P",
    "outputId": "358a936e-315e-489e-e346-b94e69092ee7"
   }
  },
  {
   "cell_type": "code",
   "execution_count": 21,
   "source": [
    "dataset = sequences.map(split_input_target)"
   ],
   "outputs": [],
   "metadata": {
    "id": "B9iKPXkw5xwa"
   }
  },
  {
   "cell_type": "code",
   "execution_count": 22,
   "source": [
    "for input_example, target_example in dataset.take(2):\r\n",
    "    print(\"Input :\", text_from_ids(input_example).numpy())\r\n",
    "    print(\"Target:\", text_from_ids(target_example).numpy())"
   ],
   "outputs": [
    {
     "output_type": "stream",
     "name": "stdout",
     "text": [
      "Input : b'# Copyright 2017 The TensorFlow Authors. All Rights Reserved.\\n#\\n# Licensed under the Apache License, Version 2.0 (the \"License\");\\n# you may not use this file except in compliance with the License.\\n# You may obtain a copy of the License at\\n#\\n#     http://www.apache.org/licenses/LICENSE-2.0\\n#\\n# Unless required by applicable law or agreed to in writing, software\\n# distributed under the License is distributed on an \"AS IS\" BASIS,\\n# WITHOUT WARRANTIES OR CONDITIONS OF ANY KIND, either express or implied.\\n# See the License for the specific language governing permissions and\\n# limitations under the License.\\n# ==============================================================================\\n\"\"\"configure script to get build parameters from user.\"\"\"\\n\\nfrom __future__ import absolute_import\\nfrom __future__ import division\\nfrom __future__ import print_function\\n\\nimport argparse\\nimport errno\\nimport glob\\nimport os\\nimport platform\\nimport re\\nimport subprocess\\nimport sys\\n\\n# pylint: disable=g-import-not-at-t'\n",
      "Target: b' Copyright 2017 The TensorFlow Authors. All Rights Reserved.\\n#\\n# Licensed under the Apache License, Version 2.0 (the \"License\");\\n# you may not use this file except in compliance with the License.\\n# You may obtain a copy of the License at\\n#\\n#     http://www.apache.org/licenses/LICENSE-2.0\\n#\\n# Unless required by applicable law or agreed to in writing, software\\n# distributed under the License is distributed on an \"AS IS\" BASIS,\\n# WITHOUT WARRANTIES OR CONDITIONS OF ANY KIND, either express or implied.\\n# See the License for the specific language governing permissions and\\n# limitations under the License.\\n# ==============================================================================\\n\"\"\"configure script to get build parameters from user.\"\"\"\\n\\nfrom __future__ import absolute_import\\nfrom __future__ import division\\nfrom __future__ import print_function\\n\\nimport argparse\\nimport errno\\nimport glob\\nimport os\\nimport platform\\nimport re\\nimport subprocess\\nimport sys\\n\\n# pylint: disable=g-import-not-at-to'\n",
      "Input : b\"p\\ntry:\\n  from shutil import which\\nexcept ImportError:\\n  from distutils.spawn import find_executable as which\\n# pylint: enable=g-import-not-at-top\\n\\n_DEFAULT_CUDA_VERSION = '10'\\n_DEFAULT_CUDNN_VERSION = '7'\\n_DEFAULT_TENSORRT_VERSION = '6'\\n_DEFAULT_CUDA_COMPUTE_CAPABILITIES = '3.5,7.0'\\n\\n_SUPPORTED_ANDROID_NDK_VERSIONS = [\\n    10, 11, 12, 13, 14, 15, 16, 17, 18, 19, 20, 21\\n]\\n\\n_DEFAULT_PROMPT_ASK_ATTEMPTS = 10\\n\\n_TF_BAZELRC_FILENAME = '.tf_configure.bazelrc'\\n_TF_WORKSPACE_ROOT = ''\\n_TF_BAZELRC = ''\\n_TF_CURRENT_BAZEL_VERSION = None\\n_TF_MIN_BAZEL_VERSION = '3.7.2'\\n_TF_MAX_BAZEL_VERSION = '3.99.0'\\n\\nNCCL_LIB_PATHS = [\\n    'lib64/', 'lib/powerpc64le-linux-gnu/', 'lib/x86_64-linux-gnu/', ''\\n]\\n\\n# List of files to configure when building Bazel on Apple platforms.\\nAPPLE_BAZEL_FILES = [\\n    'tensorflow/lite/ios/BUILD', 'tensorflow/lite/objc/BUILD',\\n    'tensorflow/lite/swift/BUILD',\\n    'tensorflow/lite/tools/benchmark/experimental/ios/BUILD'\\n]\\n\\n# List of files to move when building for iOS.\\nIOS_FILES\"\n",
      "Target: b\"\\ntry:\\n  from shutil import which\\nexcept ImportError:\\n  from distutils.spawn import find_executable as which\\n# pylint: enable=g-import-not-at-top\\n\\n_DEFAULT_CUDA_VERSION = '10'\\n_DEFAULT_CUDNN_VERSION = '7'\\n_DEFAULT_TENSORRT_VERSION = '6'\\n_DEFAULT_CUDA_COMPUTE_CAPABILITIES = '3.5,7.0'\\n\\n_SUPPORTED_ANDROID_NDK_VERSIONS = [\\n    10, 11, 12, 13, 14, 15, 16, 17, 18, 19, 20, 21\\n]\\n\\n_DEFAULT_PROMPT_ASK_ATTEMPTS = 10\\n\\n_TF_BAZELRC_FILENAME = '.tf_configure.bazelrc'\\n_TF_WORKSPACE_ROOT = ''\\n_TF_BAZELRC = ''\\n_TF_CURRENT_BAZEL_VERSION = None\\n_TF_MIN_BAZEL_VERSION = '3.7.2'\\n_TF_MAX_BAZEL_VERSION = '3.99.0'\\n\\nNCCL_LIB_PATHS = [\\n    'lib64/', 'lib/powerpc64le-linux-gnu/', 'lib/x86_64-linux-gnu/', ''\\n]\\n\\n# List of files to configure when building Bazel on Apple platforms.\\nAPPLE_BAZEL_FILES = [\\n    'tensorflow/lite/ios/BUILD', 'tensorflow/lite/objc/BUILD',\\n    'tensorflow/lite/swift/BUILD',\\n    'tensorflow/lite/tools/benchmark/experimental/ios/BUILD'\\n]\\n\\n# List of files to move when building for iOS.\\nIOS_FILES \"\n"
     ]
    }
   ],
   "metadata": {
    "colab": {
     "base_uri": "https://localhost:8080/"
    },
    "id": "GNbw-iR0ymwj",
    "outputId": "7c348fb1-7a85-4347-f998-8f94d79d5702"
   }
  },
  {
   "cell_type": "markdown",
   "source": [
    "### Create training batches\n",
    "\n",
    "You used `tf.data` to split the text into manageable sequences. But before feeding this data into the model, you need to shuffle the data and pack it into batches."
   ],
   "metadata": {
    "id": "MJdfPmdqzf-R"
   }
  },
  {
   "cell_type": "code",
   "execution_count": 23,
   "source": [
    "# Batch size\r\n",
    "BATCH_SIZE = 64\r\n",
    "\r\n",
    "# Buffer size to shuffle the dataset\r\n",
    "# (TF data is designed to work with possibly infinite sequences,\r\n",
    "# so it doesn't attempt to shuffle the entire sequence in memory. Instead,\r\n",
    "# it maintains a buffer in which it shuffles elements).\r\n",
    "BUFFER_SIZE = 10000\r\n",
    "\r\n",
    "dataset = (\r\n",
    "    dataset\r\n",
    "    .shuffle(BUFFER_SIZE)\r\n",
    "    .batch(BATCH_SIZE, drop_remainder=True)\r\n",
    "    .prefetch(tf.data.experimental.AUTOTUNE))\r\n",
    "\r\n",
    "dataset"
   ],
   "outputs": [
    {
     "output_type": "execute_result",
     "data": {
      "text/plain": [
       "<PrefetchDataset shapes: ((64, 1000), (64, 1000)), types: (tf.int64, tf.int64)>"
      ]
     },
     "metadata": {},
     "execution_count": 23
    }
   ],
   "metadata": {
    "colab": {
     "base_uri": "https://localhost:8080/"
    },
    "id": "p2pGotuNzf-S",
    "outputId": "89694d44-7c50-4d64-c202-c2256a82de44"
   }
  },
  {
   "cell_type": "markdown",
   "source": [
    "## Build The Model"
   ],
   "metadata": {
    "id": "r6oUuElIMgVx"
   }
  },
  {
   "cell_type": "markdown",
   "source": [
    "This section defines the model as a `keras.Model` subclass (For details see [Making new Layers and Models via subclassing](https://www.tensorflow.org/guide/keras/custom_layers_and_models)). \n",
    "\n",
    "This model has three layers:\n",
    "\n",
    "* `tf.keras.layers.Embedding`: The input layer. A trainable lookup table that will map each character-ID to a vector with `embedding_dim` dimensions;\n",
    "* `tf.keras.layers.GRU`: A type of RNN with size `units=rnn_units` (You can also use an LSTM layer here.)\n",
    "* `tf.keras.layers.Dense`: The output layer, with `vocab_size` outputs. It outputs one logit for each character in the vocabulary. These are the log-likelihood of each character according to the model."
   ],
   "metadata": {
    "id": "m8gPwEjRzf-Z"
   }
  },
  {
   "cell_type": "code",
   "execution_count": 24,
   "source": [
    "# Length of the vocabulary in chars\r\n",
    "vocab_size = len(vocab)\r\n",
    "\r\n",
    "# The embedding dimension\r\n",
    "embedding_dim = 256\r\n",
    "\r\n",
    "# Number of RNN units\r\n",
    "rnn_units = 1024"
   ],
   "outputs": [],
   "metadata": {
    "id": "zHT8cLh7EAsg"
   }
  },
  {
   "cell_type": "code",
   "execution_count": 25,
   "source": [
    "class MyModel(tf.keras.Model):\r\n",
    "  def __init__(self, vocab_size, embedding_dim, rnn_units):\r\n",
    "    super().__init__(self)\r\n",
    "    self.embedding = tf.keras.layers.Embedding(vocab_size, embedding_dim)\r\n",
    "    self.gru = tf.keras.layers.GRU(rnn_units,\r\n",
    "                                   return_sequences=True,\r\n",
    "                                   return_state=True)\r\n",
    "    self.dense = tf.keras.layers.Dense(vocab_size)\r\n",
    "\r\n",
    "  def call(self, inputs, states=None, return_state=False, training=False):\r\n",
    "    x = inputs\r\n",
    "    x = self.embedding(x, training=training)\r\n",
    "    if states is None:\r\n",
    "      states = self.gru.get_initial_state(x)\r\n",
    "    x, states = self.gru(x, initial_state=states, training=training)\r\n",
    "    x = self.dense(x, training=training)\r\n",
    "\r\n",
    "    if return_state:\r\n",
    "      return x, states\r\n",
    "    else:\r\n",
    "      return x"
   ],
   "outputs": [],
   "metadata": {
    "id": "wj8HQ2w8z4iO"
   }
  },
  {
   "cell_type": "code",
   "execution_count": 26,
   "source": [
    "model = MyModel(\r\n",
    "    # Be sure the vocabulary size matches the `StringLookup` layers.\r\n",
    "    vocab_size=len(ids_from_chars.get_vocabulary()),\r\n",
    "    embedding_dim=embedding_dim,\r\n",
    "    rnn_units=rnn_units)"
   ],
   "outputs": [],
   "metadata": {
    "id": "IX58Xj9z47Aw"
   }
  },
  {
   "cell_type": "markdown",
   "source": [
    "For each character the model looks up the embedding, runs the GRU one timestep with the embedding as input, and applies the dense layer to generate logits predicting the log-likelihood of the next character:\n",
    "\n",
    "![A drawing of the data passing through the model](https://github.com/tensorflow/text/blob/master/docs/tutorials/images/text_generation_training.png?raw=1)"
   ],
   "metadata": {
    "id": "RkA5upJIJ7W7"
   }
  },
  {
   "cell_type": "markdown",
   "source": [
    "Note: For training you could use a `keras.Sequential` model here. To  generate text later you'll need to manage the RNN's internal state. It's simpler to include the state input and output options upfront, than it is to rearrange the model architecture later. For more details see the [Keras RNN guide](https://www.tensorflow.org/guide/keras/rnn#rnn_state_reuse)."
   ],
   "metadata": {
    "id": "gKbfm04amhXk"
   }
  },
  {
   "cell_type": "markdown",
   "source": [
    "## Try the model\n",
    "\n",
    "Now run the model to see that it behaves as expected.\n",
    "\n",
    "First check the shape of the output:"
   ],
   "metadata": {
    "id": "-ubPo0_9Prjb"
   }
  },
  {
   "cell_type": "code",
   "execution_count": 27,
   "source": [
    "for input_example_batch, target_example_batch in dataset.take(1):\r\n",
    "    example_batch_predictions = model(input_example_batch)\r\n",
    "    print(example_batch_predictions.shape, \"# (batch_size, sequence_length, vocab_size)\")"
   ],
   "outputs": [
    {
     "output_type": "error",
     "ename": "InternalError",
     "evalue": "Failed to call ThenRnnForward with model config: [rnn_mode, rnn_input_mode, rnn_direction_mode]: 3, 0, 0 , [num_layers, input_size, num_units, dir_count, max_seq_length, batch_size, cell_num_units]: [1, 256, 1024, 1, 1000, 64, 0]  [Op:CudnnRNN]",
     "traceback": [
      "\u001b[1;31m---------------------------------------------------------------------------\u001b[0m",
      "\u001b[1;31mInternalError\u001b[0m                             Traceback (most recent call last)",
      "\u001b[1;32m~\\AppData\\Local\\Temp/ipykernel_22372/1572065453.py\u001b[0m in \u001b[0;36m<module>\u001b[1;34m\u001b[0m\n\u001b[0;32m      1\u001b[0m \u001b[1;32mfor\u001b[0m \u001b[0minput_example_batch\u001b[0m\u001b[1;33m,\u001b[0m \u001b[0mtarget_example_batch\u001b[0m \u001b[1;32min\u001b[0m \u001b[0mdataset\u001b[0m\u001b[1;33m.\u001b[0m\u001b[0mtake\u001b[0m\u001b[1;33m(\u001b[0m\u001b[1;36m1\u001b[0m\u001b[1;33m)\u001b[0m\u001b[1;33m:\u001b[0m\u001b[1;33m\u001b[0m\u001b[1;33m\u001b[0m\u001b[0m\n\u001b[1;32m----> 2\u001b[1;33m     \u001b[0mexample_batch_predictions\u001b[0m \u001b[1;33m=\u001b[0m \u001b[0mmodel\u001b[0m\u001b[1;33m(\u001b[0m\u001b[0minput_example_batch\u001b[0m\u001b[1;33m)\u001b[0m\u001b[1;33m\u001b[0m\u001b[1;33m\u001b[0m\u001b[0m\n\u001b[0m\u001b[0;32m      3\u001b[0m     \u001b[0mprint\u001b[0m\u001b[1;33m(\u001b[0m\u001b[0mexample_batch_predictions\u001b[0m\u001b[1;33m.\u001b[0m\u001b[0mshape\u001b[0m\u001b[1;33m,\u001b[0m \u001b[1;34m\"# (batch_size, sequence_length, vocab_size)\"\u001b[0m\u001b[1;33m)\u001b[0m\u001b[1;33m\u001b[0m\u001b[1;33m\u001b[0m\u001b[0m\n",
      "\u001b[1;32m~\\AppData\\Local\\Programs\\Python\\Python38\\lib\\site-packages\\keras\\engine\\base_layer.py\u001b[0m in \u001b[0;36m__call__\u001b[1;34m(self, *args, **kwargs)\u001b[0m\n\u001b[0;32m   1035\u001b[0m         with autocast_variable.enable_auto_cast_variables(\n\u001b[0;32m   1036\u001b[0m             self._compute_dtype_object):\n\u001b[1;32m-> 1037\u001b[1;33m           \u001b[0moutputs\u001b[0m \u001b[1;33m=\u001b[0m \u001b[0mcall_fn\u001b[0m\u001b[1;33m(\u001b[0m\u001b[0minputs\u001b[0m\u001b[1;33m,\u001b[0m \u001b[1;33m*\u001b[0m\u001b[0margs\u001b[0m\u001b[1;33m,\u001b[0m \u001b[1;33m**\u001b[0m\u001b[0mkwargs\u001b[0m\u001b[1;33m)\u001b[0m\u001b[1;33m\u001b[0m\u001b[1;33m\u001b[0m\u001b[0m\n\u001b[0m\u001b[0;32m   1038\u001b[0m \u001b[1;33m\u001b[0m\u001b[0m\n\u001b[0;32m   1039\u001b[0m         \u001b[1;32mif\u001b[0m \u001b[0mself\u001b[0m\u001b[1;33m.\u001b[0m\u001b[0m_activity_regularizer\u001b[0m\u001b[1;33m:\u001b[0m\u001b[1;33m\u001b[0m\u001b[1;33m\u001b[0m\u001b[0m\n",
      "\u001b[1;32m~\\AppData\\Local\\Temp/ipykernel_22372/2633292470.py\u001b[0m in \u001b[0;36mcall\u001b[1;34m(self, inputs, states, return_state, training)\u001b[0m\n\u001b[0;32m     13\u001b[0m     \u001b[1;32mif\u001b[0m \u001b[0mstates\u001b[0m \u001b[1;32mis\u001b[0m \u001b[1;32mNone\u001b[0m\u001b[1;33m:\u001b[0m\u001b[1;33m\u001b[0m\u001b[1;33m\u001b[0m\u001b[0m\n\u001b[0;32m     14\u001b[0m       \u001b[0mstates\u001b[0m \u001b[1;33m=\u001b[0m \u001b[0mself\u001b[0m\u001b[1;33m.\u001b[0m\u001b[0mgru\u001b[0m\u001b[1;33m.\u001b[0m\u001b[0mget_initial_state\u001b[0m\u001b[1;33m(\u001b[0m\u001b[0mx\u001b[0m\u001b[1;33m)\u001b[0m\u001b[1;33m\u001b[0m\u001b[1;33m\u001b[0m\u001b[0m\n\u001b[1;32m---> 15\u001b[1;33m     \u001b[0mx\u001b[0m\u001b[1;33m,\u001b[0m \u001b[0mstates\u001b[0m \u001b[1;33m=\u001b[0m \u001b[0mself\u001b[0m\u001b[1;33m.\u001b[0m\u001b[0mgru\u001b[0m\u001b[1;33m(\u001b[0m\u001b[0mx\u001b[0m\u001b[1;33m,\u001b[0m \u001b[0minitial_state\u001b[0m\u001b[1;33m=\u001b[0m\u001b[0mstates\u001b[0m\u001b[1;33m,\u001b[0m \u001b[0mtraining\u001b[0m\u001b[1;33m=\u001b[0m\u001b[0mtraining\u001b[0m\u001b[1;33m)\u001b[0m\u001b[1;33m\u001b[0m\u001b[1;33m\u001b[0m\u001b[0m\n\u001b[0m\u001b[0;32m     16\u001b[0m     \u001b[0mx\u001b[0m \u001b[1;33m=\u001b[0m \u001b[0mself\u001b[0m\u001b[1;33m.\u001b[0m\u001b[0mdense\u001b[0m\u001b[1;33m(\u001b[0m\u001b[0mx\u001b[0m\u001b[1;33m,\u001b[0m \u001b[0mtraining\u001b[0m\u001b[1;33m=\u001b[0m\u001b[0mtraining\u001b[0m\u001b[1;33m)\u001b[0m\u001b[1;33m\u001b[0m\u001b[1;33m\u001b[0m\u001b[0m\n\u001b[0;32m     17\u001b[0m \u001b[1;33m\u001b[0m\u001b[0m\n",
      "\u001b[1;32m~\\AppData\\Local\\Programs\\Python\\Python38\\lib\\site-packages\\keras\\layers\\recurrent.py\u001b[0m in \u001b[0;36m__call__\u001b[1;34m(self, inputs, initial_state, constants, **kwargs)\u001b[0m\n\u001b[0;32m    736\u001b[0m       \u001b[1;32mif\u001b[0m \u001b[0mconstants\u001b[0m \u001b[1;32mis\u001b[0m \u001b[1;32mnot\u001b[0m \u001b[1;32mNone\u001b[0m\u001b[1;33m:\u001b[0m\u001b[1;33m\u001b[0m\u001b[1;33m\u001b[0m\u001b[0m\n\u001b[0;32m    737\u001b[0m         \u001b[0mkwargs\u001b[0m\u001b[1;33m[\u001b[0m\u001b[1;34m'constants'\u001b[0m\u001b[1;33m]\u001b[0m \u001b[1;33m=\u001b[0m \u001b[0mconstants\u001b[0m\u001b[1;33m\u001b[0m\u001b[1;33m\u001b[0m\u001b[0m\n\u001b[1;32m--> 738\u001b[1;33m       \u001b[1;32mreturn\u001b[0m \u001b[0msuper\u001b[0m\u001b[1;33m(\u001b[0m\u001b[0mRNN\u001b[0m\u001b[1;33m,\u001b[0m \u001b[0mself\u001b[0m\u001b[1;33m)\u001b[0m\u001b[1;33m.\u001b[0m\u001b[0m__call__\u001b[0m\u001b[1;33m(\u001b[0m\u001b[0minputs\u001b[0m\u001b[1;33m,\u001b[0m \u001b[1;33m**\u001b[0m\u001b[0mkwargs\u001b[0m\u001b[1;33m)\u001b[0m\u001b[1;33m\u001b[0m\u001b[1;33m\u001b[0m\u001b[0m\n\u001b[0m\u001b[0;32m    739\u001b[0m \u001b[1;33m\u001b[0m\u001b[0m\n\u001b[0;32m    740\u001b[0m   def call(self,\n",
      "\u001b[1;32m~\\AppData\\Local\\Programs\\Python\\Python38\\lib\\site-packages\\keras\\engine\\base_layer.py\u001b[0m in \u001b[0;36m__call__\u001b[1;34m(self, *args, **kwargs)\u001b[0m\n\u001b[0;32m   1035\u001b[0m         with autocast_variable.enable_auto_cast_variables(\n\u001b[0;32m   1036\u001b[0m             self._compute_dtype_object):\n\u001b[1;32m-> 1037\u001b[1;33m           \u001b[0moutputs\u001b[0m \u001b[1;33m=\u001b[0m \u001b[0mcall_fn\u001b[0m\u001b[1;33m(\u001b[0m\u001b[0minputs\u001b[0m\u001b[1;33m,\u001b[0m \u001b[1;33m*\u001b[0m\u001b[0margs\u001b[0m\u001b[1;33m,\u001b[0m \u001b[1;33m**\u001b[0m\u001b[0mkwargs\u001b[0m\u001b[1;33m)\u001b[0m\u001b[1;33m\u001b[0m\u001b[1;33m\u001b[0m\u001b[0m\n\u001b[0m\u001b[0;32m   1038\u001b[0m \u001b[1;33m\u001b[0m\u001b[0m\n\u001b[0;32m   1039\u001b[0m         \u001b[1;32mif\u001b[0m \u001b[0mself\u001b[0m\u001b[1;33m.\u001b[0m\u001b[0m_activity_regularizer\u001b[0m\u001b[1;33m:\u001b[0m\u001b[1;33m\u001b[0m\u001b[1;33m\u001b[0m\u001b[0m\n",
      "\u001b[1;32m~\\AppData\\Local\\Programs\\Python\\Python38\\lib\\site-packages\\keras\\layers\\recurrent_v2.py\u001b[0m in \u001b[0;36mcall\u001b[1;34m(self, inputs, mask, training, initial_state)\u001b[0m\n\u001b[0;32m    441\u001b[0m       \u001b[0mruntime\u001b[0m \u001b[1;33m=\u001b[0m \u001b[0m_runtime\u001b[0m\u001b[1;33m(\u001b[0m\u001b[0m_RUNTIME_UNKNOWN\u001b[0m\u001b[1;33m)\u001b[0m\u001b[1;33m\u001b[0m\u001b[1;33m\u001b[0m\u001b[0m\n\u001b[0;32m    442\u001b[0m     \u001b[1;32melse\u001b[0m\u001b[1;33m:\u001b[0m\u001b[1;33m\u001b[0m\u001b[1;33m\u001b[0m\u001b[0m\n\u001b[1;32m--> 443\u001b[1;33m       last_output, outputs, runtime, states = self._defun_gru_call(\n\u001b[0m\u001b[0;32m    444\u001b[0m           inputs, initial_state, training, mask, row_lengths)\n\u001b[0;32m    445\u001b[0m \u001b[1;33m\u001b[0m\u001b[0m\n",
      "\u001b[1;32m~\\AppData\\Local\\Programs\\Python\\Python38\\lib\\site-packages\\keras\\layers\\recurrent_v2.py\u001b[0m in \u001b[0;36m_defun_gru_call\u001b[1;34m(self, inputs, initial_state, training, mask, sequence_lengths)\u001b[0m\n\u001b[0;32m    513\u001b[0m         \u001b[1;31m# Under eager context, check the device placement and prefer the\u001b[0m\u001b[1;33m\u001b[0m\u001b[1;33m\u001b[0m\u001b[1;33m\u001b[0m\u001b[0m\n\u001b[0;32m    514\u001b[0m         \u001b[1;32mif\u001b[0m \u001b[0mcan_use_gpu\u001b[0m\u001b[1;33m:\u001b[0m\u001b[1;33m\u001b[0m\u001b[1;33m\u001b[0m\u001b[0m\n\u001b[1;32m--> 515\u001b[1;33m           \u001b[0mlast_output\u001b[0m\u001b[1;33m,\u001b[0m \u001b[0moutputs\u001b[0m\u001b[1;33m,\u001b[0m \u001b[0mnew_h\u001b[0m\u001b[1;33m,\u001b[0m \u001b[0mruntime\u001b[0m \u001b[1;33m=\u001b[0m \u001b[0mgpu_gru\u001b[0m\u001b[1;33m(\u001b[0m\u001b[1;33m**\u001b[0m\u001b[0mgpu_gru_kwargs\u001b[0m\u001b[1;33m)\u001b[0m\u001b[1;33m\u001b[0m\u001b[1;33m\u001b[0m\u001b[0m\n\u001b[0m\u001b[0;32m    516\u001b[0m         \u001b[1;32melse\u001b[0m\u001b[1;33m:\u001b[0m\u001b[1;33m\u001b[0m\u001b[1;33m\u001b[0m\u001b[0m\n\u001b[0;32m    517\u001b[0m           last_output, outputs, new_h, runtime = standard_gru(\n",
      "\u001b[1;32m~\\AppData\\Local\\Programs\\Python\\Python38\\lib\\site-packages\\keras\\layers\\recurrent_v2.py\u001b[0m in \u001b[0;36mgpu_gru\u001b[1;34m(inputs, init_h, kernel, recurrent_kernel, bias, mask, time_major, go_backwards, sequence_lengths)\u001b[0m\n\u001b[0;32m    674\u001b[0m       \u001b[1;31m# Reverse axis 0 since the input is already convert to time major.\u001b[0m\u001b[1;33m\u001b[0m\u001b[1;33m\u001b[0m\u001b[1;33m\u001b[0m\u001b[0m\n\u001b[0;32m    675\u001b[0m       \u001b[0minputs\u001b[0m \u001b[1;33m=\u001b[0m \u001b[0mtf\u001b[0m\u001b[1;33m.\u001b[0m\u001b[0mreverse\u001b[0m\u001b[1;33m(\u001b[0m\u001b[0minputs\u001b[0m\u001b[1;33m,\u001b[0m \u001b[0maxis\u001b[0m\u001b[1;33m=\u001b[0m\u001b[1;33m[\u001b[0m\u001b[1;36m0\u001b[0m\u001b[1;33m]\u001b[0m\u001b[1;33m)\u001b[0m\u001b[1;33m\u001b[0m\u001b[1;33m\u001b[0m\u001b[0m\n\u001b[1;32m--> 676\u001b[1;33m     outputs, h, _, _ = tf.raw_ops.CudnnRNN(\n\u001b[0m\u001b[0;32m    677\u001b[0m         \u001b[0minput\u001b[0m\u001b[1;33m=\u001b[0m\u001b[0minputs\u001b[0m\u001b[1;33m,\u001b[0m \u001b[0minput_h\u001b[0m\u001b[1;33m=\u001b[0m\u001b[0minit_h\u001b[0m\u001b[1;33m,\u001b[0m \u001b[0minput_c\u001b[0m\u001b[1;33m=\u001b[0m\u001b[1;36m0\u001b[0m\u001b[1;33m,\u001b[0m \u001b[0mparams\u001b[0m\u001b[1;33m=\u001b[0m\u001b[0mparams\u001b[0m\u001b[1;33m,\u001b[0m\u001b[1;33m\u001b[0m\u001b[1;33m\u001b[0m\u001b[0m\n\u001b[0;32m    678\u001b[0m         is_training=True, rnn_mode='gru')\n",
      "\u001b[1;32m~\\AppData\\Local\\Programs\\Python\\Python38\\lib\\site-packages\\tensorflow\\python\\util\\tf_export.py\u001b[0m in \u001b[0;36mwrapper\u001b[1;34m(*args, **kwargs)\u001b[0m\n\u001b[0;32m    402\u001b[0m           \u001b[1;34m'Please pass these args as kwargs instead.'\u001b[0m\u001b[1;33m\u001b[0m\u001b[1;33m\u001b[0m\u001b[0m\n\u001b[0;32m    403\u001b[0m           .format(f=f.__name__, kwargs=f_argspec.args))\n\u001b[1;32m--> 404\u001b[1;33m     \u001b[1;32mreturn\u001b[0m \u001b[0mf\u001b[0m\u001b[1;33m(\u001b[0m\u001b[1;33m**\u001b[0m\u001b[0mkwargs\u001b[0m\u001b[1;33m)\u001b[0m\u001b[1;33m\u001b[0m\u001b[1;33m\u001b[0m\u001b[0m\n\u001b[0m\u001b[0;32m    405\u001b[0m \u001b[1;33m\u001b[0m\u001b[0m\n\u001b[0;32m    406\u001b[0m   \u001b[1;32mreturn\u001b[0m \u001b[0mtf_decorator\u001b[0m\u001b[1;33m.\u001b[0m\u001b[0mmake_decorator\u001b[0m\u001b[1;33m(\u001b[0m\u001b[0mf\u001b[0m\u001b[1;33m,\u001b[0m \u001b[0mwrapper\u001b[0m\u001b[1;33m,\u001b[0m \u001b[0mdecorator_argspec\u001b[0m\u001b[1;33m=\u001b[0m\u001b[0mf_argspec\u001b[0m\u001b[1;33m)\u001b[0m\u001b[1;33m\u001b[0m\u001b[1;33m\u001b[0m\u001b[0m\n",
      "\u001b[1;32m~\\AppData\\Local\\Programs\\Python\\Python38\\lib\\site-packages\\tensorflow\\python\\ops\\gen_cudnn_rnn_ops.py\u001b[0m in \u001b[0;36mcudnn_rnn\u001b[1;34m(input, input_h, input_c, params, rnn_mode, input_mode, direction, dropout, seed, seed2, is_training, name)\u001b[0m\n\u001b[0;32m     96\u001b[0m       \u001b[1;32mpass\u001b[0m\u001b[1;33m\u001b[0m\u001b[1;33m\u001b[0m\u001b[0m\n\u001b[0;32m     97\u001b[0m     \u001b[1;32mtry\u001b[0m\u001b[1;33m:\u001b[0m\u001b[1;33m\u001b[0m\u001b[1;33m\u001b[0m\u001b[0m\n\u001b[1;32m---> 98\u001b[1;33m       return cudnn_rnn_eager_fallback(\n\u001b[0m\u001b[0;32m     99\u001b[0m           \u001b[0minput\u001b[0m\u001b[1;33m,\u001b[0m \u001b[0minput_h\u001b[0m\u001b[1;33m,\u001b[0m \u001b[0minput_c\u001b[0m\u001b[1;33m,\u001b[0m \u001b[0mparams\u001b[0m\u001b[1;33m,\u001b[0m \u001b[0mrnn_mode\u001b[0m\u001b[1;33m=\u001b[0m\u001b[0mrnn_mode\u001b[0m\u001b[1;33m,\u001b[0m\u001b[1;33m\u001b[0m\u001b[1;33m\u001b[0m\u001b[0m\n\u001b[0;32m    100\u001b[0m           \u001b[0minput_mode\u001b[0m\u001b[1;33m=\u001b[0m\u001b[0minput_mode\u001b[0m\u001b[1;33m,\u001b[0m \u001b[0mdirection\u001b[0m\u001b[1;33m=\u001b[0m\u001b[0mdirection\u001b[0m\u001b[1;33m,\u001b[0m \u001b[0mdropout\u001b[0m\u001b[1;33m=\u001b[0m\u001b[0mdropout\u001b[0m\u001b[1;33m,\u001b[0m\u001b[1;33m\u001b[0m\u001b[1;33m\u001b[0m\u001b[0m\n",
      "\u001b[1;32m~\\AppData\\Local\\Programs\\Python\\Python38\\lib\\site-packages\\tensorflow\\python\\ops\\gen_cudnn_rnn_ops.py\u001b[0m in \u001b[0;36mcudnn_rnn_eager_fallback\u001b[1;34m(input, input_h, input_c, params, rnn_mode, input_mode, direction, dropout, seed, seed2, is_training, name, ctx)\u001b[0m\n\u001b[0;32m    176\u001b[0m   \u001b[1;34m\"direction\"\u001b[0m\u001b[1;33m,\u001b[0m \u001b[0mdirection\u001b[0m\u001b[1;33m,\u001b[0m \u001b[1;34m\"dropout\"\u001b[0m\u001b[1;33m,\u001b[0m \u001b[0mdropout\u001b[0m\u001b[1;33m,\u001b[0m \u001b[1;34m\"seed\"\u001b[0m\u001b[1;33m,\u001b[0m \u001b[0mseed\u001b[0m\u001b[1;33m,\u001b[0m \u001b[1;34m\"seed2\"\u001b[0m\u001b[1;33m,\u001b[0m \u001b[0mseed2\u001b[0m\u001b[1;33m,\u001b[0m\u001b[1;33m\u001b[0m\u001b[1;33m\u001b[0m\u001b[0m\n\u001b[0;32m    177\u001b[0m   \"is_training\", is_training)\n\u001b[1;32m--> 178\u001b[1;33m   _result = _execute.execute(b\"CudnnRNN\", 4, inputs=_inputs_flat,\n\u001b[0m\u001b[0;32m    179\u001b[0m                              attrs=_attrs, ctx=ctx, name=name)\n\u001b[0;32m    180\u001b[0m   \u001b[1;32mif\u001b[0m \u001b[0m_execute\u001b[0m\u001b[1;33m.\u001b[0m\u001b[0mmust_record_gradient\u001b[0m\u001b[1;33m(\u001b[0m\u001b[1;33m)\u001b[0m\u001b[1;33m:\u001b[0m\u001b[1;33m\u001b[0m\u001b[1;33m\u001b[0m\u001b[0m\n",
      "\u001b[1;32m~\\AppData\\Local\\Programs\\Python\\Python38\\lib\\site-packages\\tensorflow\\python\\eager\\execute.py\u001b[0m in \u001b[0;36mquick_execute\u001b[1;34m(op_name, num_outputs, inputs, attrs, ctx, name)\u001b[0m\n\u001b[0;32m     57\u001b[0m   \u001b[1;32mtry\u001b[0m\u001b[1;33m:\u001b[0m\u001b[1;33m\u001b[0m\u001b[1;33m\u001b[0m\u001b[0m\n\u001b[0;32m     58\u001b[0m     \u001b[0mctx\u001b[0m\u001b[1;33m.\u001b[0m\u001b[0mensure_initialized\u001b[0m\u001b[1;33m(\u001b[0m\u001b[1;33m)\u001b[0m\u001b[1;33m\u001b[0m\u001b[1;33m\u001b[0m\u001b[0m\n\u001b[1;32m---> 59\u001b[1;33m     tensors = pywrap_tfe.TFE_Py_Execute(ctx._handle, device_name, op_name,\n\u001b[0m\u001b[0;32m     60\u001b[0m                                         inputs, attrs, num_outputs)\n\u001b[0;32m     61\u001b[0m   \u001b[1;32mexcept\u001b[0m \u001b[0mcore\u001b[0m\u001b[1;33m.\u001b[0m\u001b[0m_NotOkStatusException\u001b[0m \u001b[1;32mas\u001b[0m \u001b[0me\u001b[0m\u001b[1;33m:\u001b[0m\u001b[1;33m\u001b[0m\u001b[1;33m\u001b[0m\u001b[0m\n",
      "\u001b[1;31mInternalError\u001b[0m: Failed to call ThenRnnForward with model config: [rnn_mode, rnn_input_mode, rnn_direction_mode]: 3, 0, 0 , [num_layers, input_size, num_units, dir_count, max_seq_length, batch_size, cell_num_units]: [1, 256, 1024, 1, 1000, 64, 0]  [Op:CudnnRNN]"
     ]
    }
   ],
   "metadata": {
    "colab": {
     "base_uri": "https://localhost:8080/"
    },
    "id": "C-_70kKAPrPU",
    "outputId": "7902d598-801f-43f6-830a-0c252f72af81"
   }
  },
  {
   "cell_type": "markdown",
   "source": [
    "In the above example the sequence length of the input is `100` but the model can be run on inputs of any length:"
   ],
   "metadata": {
    "id": "Q6NzLBi4VM4o"
   }
  },
  {
   "cell_type": "code",
   "execution_count": null,
   "source": [
    "model.summary()"
   ],
   "outputs": [
    {
     "output_type": "error",
     "ename": "Error",
     "evalue": "Session cannot generate requests",
     "traceback": [
      "Error: Session cannot generate requests",
      "at w.executeCodeCell (c:\\Users\\cyfin\\.vscode\\extensions\\ms-toolsai.jupyter-2021.8.1054968649\\out\\client\\extension.js:90:320068)",
      "at w.execute (c:\\Users\\cyfin\\.vscode\\extensions\\ms-toolsai.jupyter-2021.8.1054968649\\out\\client\\extension.js:90:319389)",
      "at w.start (c:\\Users\\cyfin\\.vscode\\extensions\\ms-toolsai.jupyter-2021.8.1054968649\\out\\client\\extension.js:90:315205)",
      "at runMicrotasks (<anonymous>)",
      "at processTicksAndRejections (internal/process/task_queues.js:93:5)",
      "at t.CellExecutionQueue.executeQueuedCells (c:\\Users\\cyfin\\.vscode\\extensions\\ms-toolsai.jupyter-2021.8.1054968649\\out\\client\\extension.js:90:329732)",
      "at t.CellExecutionQueue.start (c:\\Users\\cyfin\\.vscode\\extensions\\ms-toolsai.jupyter-2021.8.1054968649\\out\\client\\extension.js:90:329272)"
     ]
    }
   ],
   "metadata": {
    "colab": {
     "base_uri": "https://localhost:8080/"
    },
    "id": "vPGmAAXmVLGC",
    "outputId": "d4f47581-bf10-4963-ce4e-079bef976f09"
   }
  },
  {
   "cell_type": "markdown",
   "source": [
    "To get actual predictions from the model you need to sample from the output distribution, to get actual character indices. This distribution is defined by the logits over the character vocabulary.\n",
    "\n",
    "Note: It is important to _sample_ from this distribution as taking the _argmax_ of the distribution can easily get the model stuck in a loop.\n",
    "\n",
    "Try it for the first example in the batch:"
   ],
   "metadata": {
    "id": "uwv0gEkURfx1"
   }
  },
  {
   "cell_type": "code",
   "execution_count": null,
   "source": [
    "sampled_indices = tf.random.categorical(example_batch_predictions[0], num_samples=1)\r\n",
    "sampled_indices = tf.squeeze(sampled_indices, axis=-1).numpy()"
   ],
   "outputs": [],
   "metadata": {
    "id": "4V4MfFg0RQJg"
   }
  },
  {
   "cell_type": "markdown",
   "source": [
    "This gives us, at each timestep, a prediction of the next character index:"
   ],
   "metadata": {
    "id": "QM1Vbxs_URw5"
   }
  },
  {
   "cell_type": "code",
   "execution_count": null,
   "source": [
    "sampled_indices"
   ],
   "outputs": [
    {
     "output_type": "execute_result",
     "data": {
      "text/plain": [
       "array([223, 848,  62, 779, 582, 795, 543, 589,  28, 461, 273, 463, 845,\n",
       "       651, 294,  80, 388, 236, 310,  40, 346, 569, 420, 266, 393],\n",
       "      dtype=int64)"
      ]
     },
     "metadata": {},
     "execution_count": 305
    }
   ],
   "metadata": {
    "colab": {
     "base_uri": "https://localhost:8080/"
    },
    "id": "YqFMUQc_UFgM",
    "outputId": "f08582dc-f802-4fbc-c786-757296d3c7fe"
   }
  },
  {
   "cell_type": "markdown",
   "source": [
    "Decode these to see the text predicted by this untrained model:"
   ],
   "metadata": {
    "id": "LfLtsP3mUhCG"
   }
  },
  {
   "cell_type": "code",
   "execution_count": null,
   "source": [
    "print(\"Input:\\n\", text_from_ids(input_example_batch[0]).numpy())\r\n",
    "print()\r\n",
    "print(\"Next Char Predictions:\\n\", text_from_ids(sampled_indices).numpy())"
   ],
   "outputs": [
    {
     "output_type": "stream",
     "name": "stdout",
     "text": [
      "Input:\n",
      " b'is no longer sending mess'\n",
      "\n",
      "Next Char Predictions:\n",
      " b'\\xcc\\xa5\\xef\\xbc\\x89\\\\\\xec\\x9a\\xb0\\xe3\\x82\\x8d\\xec\\x9e\\x91\\xe3\\x81\\x87\\xe3\\x82\\xad:\\xe0\\xb9\\x88\\xcd\\x99\\xe1\\x83\\x9a\\xef\\xba\\xaa\\xe7\\x99\\xbd\\xcd\\xaen\\xd9\\x89\\xcc\\xb2\\xd0\\xb4F\\xd7\\x9d\\xe3\\x81\\xb1\\xe0\\xb2\\xa0\\xcd\\x92\\xdb\\x81'\n"
     ]
    }
   ],
   "metadata": {
    "colab": {
     "base_uri": "https://localhost:8080/"
    },
    "id": "xWcFwPwLSo05",
    "outputId": "b724f17e-141e-4475-c7bc-d3b710e1b48f"
   }
  },
  {
   "cell_type": "markdown",
   "source": [
    "## Train the model"
   ],
   "metadata": {
    "id": "LJL0Q0YPY6Ee"
   }
  },
  {
   "cell_type": "markdown",
   "source": [
    "At this point the problem can be treated as a standard classification problem. Given the previous RNN state, and the input this time step, predict the class of the next character."
   ],
   "metadata": {
    "id": "YCbHQHiaa4Ic"
   }
  },
  {
   "cell_type": "markdown",
   "source": [
    "### Attach an optimizer, and a loss function"
   ],
   "metadata": {
    "id": "trpqTWyvk0nr"
   }
  },
  {
   "cell_type": "markdown",
   "source": [
    "The standard `tf.keras.losses.sparse_categorical_crossentropy` loss function works in this case because it is applied across the last dimension of the predictions.\n",
    "\n",
    "Because your model returns logits, you need to set the `from_logits` flag.\n"
   ],
   "metadata": {
    "id": "UAjbjY03eiQ4"
   }
  },
  {
   "cell_type": "code",
   "execution_count": null,
   "source": [
    "loss = tf.losses.SparseCategoricalCrossentropy(from_logits=True)"
   ],
   "outputs": [],
   "metadata": {
    "id": "ZOeWdgxNFDXq"
   }
  },
  {
   "cell_type": "code",
   "execution_count": null,
   "source": [
    "example_batch_loss = loss(target_example_batch, example_batch_predictions)\r\n",
    "mean_loss = example_batch_loss.numpy().mean()\r\n",
    "print(\"Prediction shape: \", example_batch_predictions.shape, \" # (batch_size, sequence_length, vocab_size)\")\r\n",
    "print(\"Mean loss:        \", mean_loss)"
   ],
   "outputs": [
    {
     "output_type": "stream",
     "name": "stdout",
     "text": [
      "Prediction shape:  (64, 25, 939)  # (batch_size, sequence_length, vocab_size)\n",
      "Mean loss:         6.844936\n"
     ]
    }
   ],
   "metadata": {
    "colab": {
     "base_uri": "https://localhost:8080/"
    },
    "id": "4HrXTACTdzY-",
    "outputId": "568fca74-9049-4e6d-a6a0-e263435a9dc7"
   }
  },
  {
   "cell_type": "markdown",
   "source": [
    "A newly initialized model shouldn't be too sure of itself, the output logits should all have similar magnitudes. To confirm this you can check that the exponential of the mean loss is approximately equal to the vocabulary size. A much higher loss means the model is sure of its wrong answers, and is badly initialized:"
   ],
   "metadata": {
    "id": "vkvUIneTFiow"
   }
  },
  {
   "cell_type": "code",
   "execution_count": null,
   "source": [
    "tf.exp(mean_loss).numpy()"
   ],
   "outputs": [
    {
     "output_type": "execute_result",
     "data": {
      "text/plain": [
       "939.11304"
      ]
     },
     "metadata": {},
     "execution_count": 309
    }
   ],
   "metadata": {
    "colab": {
     "base_uri": "https://localhost:8080/"
    },
    "id": "MAJfS5YoFiHf",
    "outputId": "7f757f3a-ad8e-4534-c349-aa9ea0ae8090"
   }
  },
  {
   "cell_type": "markdown",
   "source": [
    "Configure the training procedure using the `tf.keras.Model.compile` method. Use `tf.keras.optimizers.Adam` with default arguments and the loss function."
   ],
   "metadata": {
    "id": "jeOXriLcymww"
   }
  },
  {
   "cell_type": "code",
   "execution_count": null,
   "source": [
    "model.compile(optimizer='adam', loss=loss)"
   ],
   "outputs": [],
   "metadata": {
    "id": "DDl1_Een6rL0"
   }
  },
  {
   "cell_type": "markdown",
   "source": [
    "### Configure checkpoints"
   ],
   "metadata": {
    "id": "ieSJdchZggUj"
   }
  },
  {
   "cell_type": "markdown",
   "source": [
    "Use a `tf.keras.callbacks.ModelCheckpoint` to ensure that checkpoints are saved during training:"
   ],
   "metadata": {
    "id": "C6XBUUavgF56"
   }
  },
  {
   "cell_type": "code",
   "execution_count": null,
   "source": [
    "# Directory where the checkpoints will be saved\r\n",
    "checkpoint_dir = './training_checkpoints_'+SET_NAME\r\n",
    "# Name of the checkpoint files\r\n",
    "checkpoint_prefix = os.path.join(checkpoint_dir, \"ckpt_{epoch}\")\r\n",
    "\r\n",
    "checkpoint_callback = tf.keras.callbacks.ModelCheckpoint(\r\n",
    "    filepath=checkpoint_prefix,\r\n",
    "    save_weights_only=True)"
   ],
   "outputs": [],
   "metadata": {
    "id": "W6fWTriUZP-n"
   }
  },
  {
   "cell_type": "markdown",
   "source": [
    "### Execute the training"
   ],
   "metadata": {
    "id": "3Ky3F_BhgkTW"
   }
  },
  {
   "cell_type": "markdown",
   "source": [
    "To keep training time reasonable, use 10 epochs to train the model. In Colab, set the runtime to GPU for faster training."
   ],
   "metadata": {
    "id": "IxdOA-rgyGvs"
   }
  },
  {
   "cell_type": "code",
   "execution_count": null,
   "source": [
    "EPOCHS = 100"
   ],
   "outputs": [],
   "metadata": {
    "id": "7yGBE2zxMMHs"
   }
  },
  {
   "cell_type": "code",
   "execution_count": null,
   "source": [
    "history = model.fit(dataset, epochs=15, callbacks=[checkpoint_callback])"
   ],
   "outputs": [
    {
     "output_type": "stream",
     "name": "stdout",
     "text": [
      "Epoch 1/15\n",
      "1039/1039 [==============================] - 40s 38ms/step - loss: 1.5168\n",
      "Epoch 2/15\n",
      "1039/1039 [==============================] - 40s 38ms/step - loss: 1.4684\n",
      "Epoch 3/15\n",
      "1039/1039 [==============================] - 40s 38ms/step - loss: 1.4239\n",
      "Epoch 4/15\n",
      "1039/1039 [==============================] - 40s 38ms/step - loss: 1.3824\n",
      "Epoch 5/15\n",
      "1039/1039 [==============================] - 40s 38ms/step - loss: 1.3446\n",
      "Epoch 6/15\n",
      "1039/1039 [==============================] - 40s 38ms/step - loss: 1.3103\n",
      "Epoch 7/15\n",
      "1039/1039 [==============================] - 40s 38ms/step - loss: 1.2796\n",
      "Epoch 8/15\n",
      "1039/1039 [==============================] - 40s 38ms/step - loss: 1.2545\n",
      "Epoch 9/15\n",
      "1039/1039 [==============================] - 40s 39ms/step - loss: 1.2315\n",
      "Epoch 10/15\n",
      "1039/1039 [==============================] - 41s 39ms/step - loss: 1.2123\n",
      "Epoch 11/15\n",
      "1039/1039 [==============================] - 41s 39ms/step - loss: 1.1974\n",
      "Epoch 12/15\n",
      "1039/1039 [==============================] - 41s 39ms/step - loss: 1.1839\n",
      "Epoch 13/15\n",
      "1039/1039 [==============================] - 41s 39ms/step - loss: 1.1733\n",
      "Epoch 14/15\n",
      "1039/1039 [==============================] - 41s 39ms/step - loss: 1.1659\n",
      "Epoch 15/15\n",
      "1039/1039 [==============================] - 41s 39ms/step - loss: 1.1601\n"
     ]
    }
   ],
   "metadata": {
    "colab": {
     "base_uri": "https://localhost:8080/"
    },
    "id": "UK-hmKjYVoll",
    "outputId": "81f0dbe8-3a1c-49e3-e67c-8e91e928c1f5"
   }
  },
  {
   "cell_type": "code",
   "execution_count": null,
   "source": [
    "model.save('model_'+SET_NAME)"
   ],
   "outputs": [
    {
     "output_type": "stream",
     "name": "stderr",
     "text": [
      "WARNING:absl:Found untraced functions such as gru_cell_7_layer_call_fn, gru_cell_7_layer_call_and_return_conditional_losses, gru_cell_7_layer_call_fn, gru_cell_7_layer_call_and_return_conditional_losses, gru_cell_7_layer_call_and_return_conditional_losses while saving (showing 5 of 5). These functions will not be directly callable after loading.\n"
     ]
    },
    {
     "output_type": "stream",
     "name": "stdout",
     "text": [
      "INFO:tensorflow:Assets written to: model_telegram_multi2\\assets\n"
     ]
    },
    {
     "output_type": "stream",
     "name": "stderr",
     "text": [
      "INFO:tensorflow:Assets written to: model_telegram_multi2\\assets\n"
     ]
    }
   ],
   "metadata": {}
  },
  {
   "cell_type": "code",
   "execution_count": null,
   "source": [
    "model = tf.keras.models.load_model('model_'+SET_NAME)"
   ],
   "outputs": [],
   "metadata": {}
  },
  {
   "cell_type": "markdown",
   "source": [
    "## Generate text"
   ],
   "metadata": {
    "id": "kKkD5M6eoSiN"
   }
  },
  {
   "cell_type": "markdown",
   "source": [
    "The simplest way to generate text with this model is to run it in a loop, and keep track of the model's internal state as you execute it.\n",
    "\n",
    "![To generate text the model's output is fed back to the input](https://github.com/tensorflow/text/blob/master/docs/tutorials/images/text_generation_sampling.png?raw=1)\n",
    "\n",
    "Each time you call the model you pass in some text and an internal state. The model returns a prediction for the next character and its new state. Pass the prediction and state back in to continue generating text.\n"
   ],
   "metadata": {
    "id": "oIdQ8c8NvMzV"
   }
  },
  {
   "cell_type": "markdown",
   "source": [
    "The following makes a single step prediction:"
   ],
   "metadata": {
    "id": "DjGz1tDkzf-u"
   }
  },
  {
   "cell_type": "code",
   "execution_count": null,
   "source": [
    "class OneStep(tf.keras.Model):\r\n",
    "  def __init__(self, model, chars_from_ids, ids_from_chars, temperature=1.0):\r\n",
    "    super().__init__()\r\n",
    "    self.temperature = temperature\r\n",
    "    self.model = model\r\n",
    "    self.chars_from_ids = chars_from_ids\r\n",
    "    self.ids_from_chars = ids_from_chars\r\n",
    "\r\n",
    "    # Create a mask to prevent \"[UNK]\" from being generated.\r\n",
    "    skip_ids = self.ids_from_chars(['[UNK]'])[:, None]\r\n",
    "    sparse_mask = tf.SparseTensor(\r\n",
    "        # Put a -inf at each bad index.\r\n",
    "        values=[-float('inf')]*len(skip_ids),\r\n",
    "        indices=skip_ids,\r\n",
    "        # Match the shape to the vocabulary\r\n",
    "        dense_shape=[len(ids_from_chars.get_vocabulary())])\r\n",
    "    self.prediction_mask = tf.sparse.to_dense(sparse_mask)\r\n",
    "\r\n",
    "  @tf.function\r\n",
    "  def generate_one_step(self, inputs, states=None):\r\n",
    "    # Convert strings to token IDs.\r\n",
    "    input_chars = tf.strings.unicode_split(inputs, 'UTF-8')\r\n",
    "    input_ids = self.ids_from_chars(input_chars).to_tensor()\r\n",
    "\r\n",
    "    # Run the model.\r\n",
    "    # predicted_logits.shape is [batch, char, next_char_logits]\r\n",
    "    predicted_logits, states = self.model(inputs=input_ids, states=states,\r\n",
    "                                          return_state=True)\r\n",
    "    # Only use the last prediction.\r\n",
    "    predicted_logits = predicted_logits[:, -1, :]\r\n",
    "    predicted_logits = predicted_logits/self.temperature\r\n",
    "    # Apply the prediction mask: prevent \"[UNK]\" from being generated.\r\n",
    "    predicted_logits = predicted_logits + self.prediction_mask\r\n",
    "\r\n",
    "    # Sample the output logits to generate token IDs.\r\n",
    "    predicted_ids = tf.random.categorical(predicted_logits, num_samples=1)\r\n",
    "    predicted_ids = tf.squeeze(predicted_ids, axis=-1)\r\n",
    "\r\n",
    "    # Convert from token ids to characters\r\n",
    "    predicted_chars = self.chars_from_ids(predicted_ids)\r\n",
    "\r\n",
    "    # Return the characters and model state.\r\n",
    "    return predicted_chars, states"
   ],
   "outputs": [],
   "metadata": {
    "id": "iSBU1tHmlUSs"
   }
  },
  {
   "cell_type": "code",
   "execution_count": null,
   "source": [
    "one_step_model = OneStep(model, chars_from_ids, ids_from_chars, temperature=0.5)"
   ],
   "outputs": [],
   "metadata": {
    "id": "fqMOuDutnOxK"
   }
  },
  {
   "cell_type": "markdown",
   "source": [
    "Run it in a loop to generate some text. Looking at the generated text, you'll see the model knows when to capitalize, make paragraphs and imitates a Shakespeare-like writing vocabulary. With the small number of training epochs, it has not yet learned to form coherent sentences."
   ],
   "metadata": {
    "id": "p9yDoa0G3IgQ"
   }
  },
  {
   "cell_type": "code",
   "execution_count": null,
   "source": [
    "start = time.time()\r\n",
    "states = None\r\n",
    "next_char = tf.constant(['i gtg\\n'])\r\n",
    "result = [next_char]\r\n",
    "\r\n",
    "for n in range(10):\r\n",
    "  next_char, states = one_step_model.generate_one_step(next_char, states=states)\r\n",
    "  # print('next_char:', next_char, next_char=='y')\r\n",
    "  result.append(next_char)\r\n",
    "\r\n",
    "result = tf.strings.join(result)\r\n",
    "end = time.time()\r\n",
    "print(result[0].numpy().decode('utf-8'), '\\n\\n' + '_'*80)\r\n",
    "print('\\nRun time:', end - start)"
   ],
   "outputs": [
    {
     "output_type": "stream",
     "name": "stdout",
     "text": [
      "i gtg\n",
      "bye⥹Yea\n",
      "i  \n",
      "\n",
      "________________________________________________________________________________\n",
      "\n",
      "Run time: 0.46913886070251465\n"
     ]
    }
   ],
   "metadata": {
    "colab": {
     "base_uri": "https://localhost:8080/"
    },
    "id": "ST7PSyk9t1mT",
    "outputId": "7931152d-c1ab-4782-d877-5fdca3975ebb"
   }
  },
  {
   "cell_type": "markdown",
   "source": [
    "The easiest thing you can do to improve the results is to train it for longer (try `EPOCHS = 30`).\r\n",
    "\r\n",
    "You can also experiment with a different start string, try adding another RNN layer to improve the model's accuracy, or adjust the temperature parameter to generate more or less random predictions."
   ],
   "metadata": {
    "id": "AM2Uma_-yVIq"
   }
  },
  {
   "cell_type": "markdown",
   "source": [
    "If you want the model to generate text *faster* the easiest thing you can do is batch the text generation. In the example below the model generates 5 outputs in about the same time it took to generate 1 above. "
   ],
   "metadata": {
    "id": "_OfbI4aULmuj"
   }
  },
  {
   "cell_type": "code",
   "execution_count": null,
   "source": [
    "start = time.time()\r\n",
    "states = None\r\n",
    "next_char = tf.constant(['ROMEO:', 'ROMEO:', 'ROMEO:', 'ROMEO:', 'ROMEO:'])\r\n",
    "result = [next_char]\r\n",
    "\r\n",
    "for n in range(1000):\r\n",
    "  next_char, states = one_step_model.generate_one_step(next_char, states=states)\r\n",
    "  result.append(next_char)\r\n",
    "\r\n",
    "result = tf.strings.join(result)\r\n",
    "end = time.time()\r\n",
    "print(result, '\\n\\n' + '_'*80)\r\n",
    "print('\\nRun time:', end - start)"
   ],
   "outputs": [],
   "metadata": {
    "colab": {
     "base_uri": "https://localhost:8080/"
    },
    "id": "ZkLu7Y8UCMT7",
    "outputId": "9025130c-0cfa-4d93-83a2-6cdfd79f83e4"
   }
  },
  {
   "cell_type": "markdown",
   "source": [
    "## Export the generator\n",
    "\n",
    "This single-step model can easily be [saved and restored](https://www.tensorflow.org/guide/saved_model), allowing you to use it anywhere a `tf.saved_model` is accepted."
   ],
   "metadata": {
    "id": "UlUQzwu6EXam"
   }
  },
  {
   "cell_type": "code",
   "execution_count": null,
   "source": [
    "# tf.saved_model.save(one_step_model, 'one_step_shakespeare')\r\n",
    "tf.saved_model.save(one_step_model, 'one_step_'+SET_NAME)\r\n",
    "# one_step_model.save('one_step_telegram_keras')\r\n",
    "# one_step_model.save('one_step_telegram')\r\n",
    "one_step_reloaded = tf.saved_model.load('one_step_'+SET_NAME)"
   ],
   "outputs": [
    {
     "output_type": "stream",
     "name": "stdout",
     "text": [
      "WARNING:tensorflow:Skipping full serialization of Keras layer <__main__.OneStep object at 0x0000025750761A00>, because it is not built.\n"
     ]
    },
    {
     "output_type": "stream",
     "name": "stderr",
     "text": [
      "WARNING:tensorflow:Skipping full serialization of Keras layer <__main__.OneStep object at 0x0000025750761A00>, because it is not built.\n",
      "WARNING:absl:Found untraced functions such as gru_cell_7_layer_call_fn, gru_cell_7_layer_call_and_return_conditional_losses, gru_cell_7_layer_call_fn, gru_cell_7_layer_call_and_return_conditional_losses, gru_cell_7_layer_call_and_return_conditional_losses while saving (showing 5 of 5). These functions will not be directly callable after loading.\n"
     ]
    },
    {
     "output_type": "stream",
     "name": "stdout",
     "text": [
      "INFO:tensorflow:Assets written to: one_step_telegram2\\assets\n"
     ]
    },
    {
     "output_type": "stream",
     "name": "stderr",
     "text": [
      "INFO:tensorflow:Assets written to: one_step_telegram2\\assets\n"
     ]
    }
   ],
   "metadata": {
    "colab": {
     "base_uri": "https://localhost:8080/"
    },
    "id": "3Grk32H_CzsC",
    "outputId": "f00d3198-f104-4a76-8fce-5cdcdff12439"
   }
  },
  {
   "cell_type": "code",
   "execution_count": null,
   "source": [
    "states = None\r\n",
    "next_char = tf.constant(['ROMEO:'])\r\n",
    "result = [next_char]\r\n",
    "\r\n",
    "for n in range(100):\r\n",
    "  next_char, states = one_step_reloaded.generate_one_step(next_char, states=states)\r\n",
    "  result.append(next_char)\r\n",
    "\r\n",
    "print(tf.strings.join(result)[0].numpy().decode(\"utf-8\"))"
   ],
   "outputs": [
    {
     "output_type": "stream",
     "name": "stdout",
     "text": [
      "ROMEO: 3 pay\n",
      "Havent like\n",
      "does it do\n",
      "is this\n",
      "i can spend link to configure this even in the second internet\n"
     ]
    }
   ],
   "metadata": {
    "id": "_Z9bb_wX6Uuu"
   }
  },
  {
   "cell_type": "markdown",
   "source": [
    "## Advanced: Customized Training\n",
    "\n",
    "The above training procedure is simple, but does not give you much control.\n",
    "It uses teacher-forcing which prevents bad predictions from being fed back to the model, so the model never learns to recover from mistakes.\n",
    "\n",
    "So now that you've seen how to run the model manually next you'll implement the training loop. This gives a starting point if, for example, you want to implement _curriculum  learning_ to help stabilize the model's open-loop output.\n",
    "\n",
    "The most important part of a custom training loop is the train step function.\n",
    "\n",
    "Use `tf.GradientTape` to track the gradients. You can learn more about this approach by reading the [eager execution guide](https://www.tensorflow.org/guide/eager).\n",
    "\n",
    "The basic procedure is:\n",
    "\n",
    "1. Execute the model and calculate the loss under a `tf.GradientTape`.\n",
    "2. Calculate the updates and apply them to the model using the optimizer."
   ],
   "metadata": {
    "id": "Y4QwTjAM6A2O"
   }
  },
  {
   "cell_type": "code",
   "execution_count": null,
   "source": [
    "class CustomTraining(MyModel):\r\n",
    "  @tf.function\r\n",
    "  def train_step(self, inputs):\r\n",
    "      inputs, labels = inputs\r\n",
    "      with tf.GradientTape() as tape:\r\n",
    "          predictions = self(inputs, training=True)\r\n",
    "          loss = self.loss(labels, predictions)\r\n",
    "      grads = tape.gradient(loss, model.trainable_variables)\r\n",
    "      self.optimizer.apply_gradients(zip(grads, model.trainable_variables))\r\n",
    "\r\n",
    "      return {'loss': loss}"
   ],
   "outputs": [],
   "metadata": {
    "id": "x0pZ101hjwW0"
   }
  },
  {
   "cell_type": "markdown",
   "source": [
    "The above implementation of the `train_step` method follows [Keras' `train_step` conventions](https://www.tensorflow.org/guide/keras/customizing_what_happens_in_fit). This is optional, but it allows you to change the behavior of the train step and still use keras' `Model.compile` and `Model.fit` methods."
   ],
   "metadata": {
    "id": "4Oc-eJALcK8B"
   }
  },
  {
   "cell_type": "code",
   "execution_count": null,
   "source": [
    "model = CustomTraining(\r\n",
    "    vocab_size=len(ids_from_chars.get_vocabulary()),\r\n",
    "    embedding_dim=embedding_dim,\r\n",
    "    rnn_units=rnn_units)"
   ],
   "outputs": [],
   "metadata": {
    "id": "XKyWiZ_Lj7w5"
   }
  },
  {
   "cell_type": "code",
   "execution_count": null,
   "source": [
    "model.compile(optimizer = tf.keras.optimizers.Adam(),\r\n",
    "              loss=tf.keras.losses.SparseCategoricalCrossentropy(from_logits=True))"
   ],
   "outputs": [],
   "metadata": {
    "id": "U817KUm7knlm"
   }
  },
  {
   "cell_type": "code",
   "execution_count": null,
   "source": [
    "model.fit(dataset, epochs=1)"
   ],
   "outputs": [
    {
     "output_type": "stream",
     "name": "stdout",
     "text": [
      "172/172 [==============================] - 12s 52ms/step - loss: 2.7219\n"
     ]
    },
    {
     "output_type": "execute_result",
     "data": {
      "text/plain": [
       "<tensorflow.python.keras.callbacks.History at 0x7f4091e37a90>"
      ]
     },
     "metadata": {
      "tags": []
     },
     "execution_count": 78
    }
   ],
   "metadata": {
    "colab": {
     "base_uri": "https://localhost:8080/"
    },
    "id": "o694aoBPnEi9",
    "outputId": "f27b1afe-66e2-49f2-a6b7-1b12884d6098"
   }
  },
  {
   "cell_type": "markdown",
   "source": [
    "Or if you need more control, you can write your own complete custom training loop:"
   ],
   "metadata": {
    "id": "W8nAtKHVoInR"
   }
  },
  {
   "cell_type": "code",
   "execution_count": null,
   "source": [
    "EPOCHS = 10\r\n",
    "\r\n",
    "mean = tf.metrics.Mean()\r\n",
    "\r\n",
    "for epoch in range(EPOCHS):\r\n",
    "    start = time.time()\r\n",
    "\r\n",
    "    mean.reset_states()\r\n",
    "    for (batch_n, (inp, target)) in enumerate(dataset):\r\n",
    "        logs = model.train_step([inp, target])\r\n",
    "        mean.update_state(logs['loss'])\r\n",
    "\r\n",
    "        if batch_n % 50 == 0:\r\n",
    "            template = f\"Epoch {epoch+1} Batch {batch_n} Loss {logs['loss']:.4f}\"\r\n",
    "            print(template)\r\n",
    "\r\n",
    "    # saving (checkpoint) the model every 5 epochs\r\n",
    "    if (epoch + 1) % 5 == 0:\r\n",
    "        model.save_weights(checkpoint_prefix.format(epoch=epoch))\r\n",
    "\r\n",
    "    print()\r\n",
    "    print(f'Epoch {epoch+1} Loss: {mean.result().numpy():.4f}')\r\n",
    "    print(f'Time taken for 1 epoch {time.time() - start:.2f} sec')\r\n",
    "    print(\"_\"*80)\r\n",
    "\r\n",
    "model.save_weights(checkpoint_prefix.format(epoch=epoch))"
   ],
   "outputs": [
    {
     "output_type": "stream",
     "name": "stdout",
     "text": [
      "Epoch 1 Batch 0 Loss 2.1916\n",
      "Epoch 1 Batch 50 Loss 2.0690\n",
      "Epoch 1 Batch 100 Loss 1.9510\n",
      "Epoch 1 Batch 150 Loss 1.8155\n",
      "\n",
      "Epoch 1 Loss: 1.9964\n",
      "Time taken for 1 epoch 10.12 sec\n",
      "________________________________________________________________________________\n",
      "Epoch 2 Batch 0 Loss 1.8392\n",
      "Epoch 2 Batch 50 Loss 1.7610\n"
     ]
    },
    {
     "output_type": "error",
     "ename": "KeyboardInterrupt",
     "evalue": "ignored",
     "traceback": [
      "\u001b[0;31m---------------------------------------------------------------------------\u001b[0m",
      "\u001b[0;31mKeyboardInterrupt\u001b[0m                         Traceback (most recent call last)",
      "\u001b[0;32m<ipython-input-79-c09e36422b17>\u001b[0m in \u001b[0;36m<module>\u001b[0;34m()\u001b[0m\n\u001b[1;32m      8\u001b[0m     \u001b[0mmean\u001b[0m\u001b[0;34m.\u001b[0m\u001b[0mreset_states\u001b[0m\u001b[0;34m(\u001b[0m\u001b[0;34m)\u001b[0m\u001b[0;34m\u001b[0m\u001b[0;34m\u001b[0m\u001b[0m\n\u001b[1;32m      9\u001b[0m     \u001b[0;32mfor\u001b[0m \u001b[0;34m(\u001b[0m\u001b[0mbatch_n\u001b[0m\u001b[0;34m,\u001b[0m \u001b[0;34m(\u001b[0m\u001b[0minp\u001b[0m\u001b[0;34m,\u001b[0m \u001b[0mtarget\u001b[0m\u001b[0;34m)\u001b[0m\u001b[0;34m)\u001b[0m \u001b[0;32min\u001b[0m \u001b[0menumerate\u001b[0m\u001b[0;34m(\u001b[0m\u001b[0mdataset\u001b[0m\u001b[0;34m)\u001b[0m\u001b[0;34m:\u001b[0m\u001b[0;34m\u001b[0m\u001b[0;34m\u001b[0m\u001b[0m\n\u001b[0;32m---> 10\u001b[0;31m         \u001b[0mlogs\u001b[0m \u001b[0;34m=\u001b[0m \u001b[0mmodel\u001b[0m\u001b[0;34m.\u001b[0m\u001b[0mtrain_step\u001b[0m\u001b[0;34m(\u001b[0m\u001b[0;34m[\u001b[0m\u001b[0minp\u001b[0m\u001b[0;34m,\u001b[0m \u001b[0mtarget\u001b[0m\u001b[0;34m]\u001b[0m\u001b[0;34m)\u001b[0m\u001b[0;34m\u001b[0m\u001b[0;34m\u001b[0m\u001b[0m\n\u001b[0m\u001b[1;32m     11\u001b[0m         \u001b[0mmean\u001b[0m\u001b[0;34m.\u001b[0m\u001b[0mupdate_state\u001b[0m\u001b[0;34m(\u001b[0m\u001b[0mlogs\u001b[0m\u001b[0;34m[\u001b[0m\u001b[0;34m'loss'\u001b[0m\u001b[0;34m]\u001b[0m\u001b[0;34m)\u001b[0m\u001b[0;34m\u001b[0m\u001b[0;34m\u001b[0m\u001b[0m\n\u001b[1;32m     12\u001b[0m \u001b[0;34m\u001b[0m\u001b[0m\n",
      "\u001b[0;32m/usr/local/lib/python3.7/dist-packages/tensorflow/python/eager/def_function.py\u001b[0m in \u001b[0;36m__call__\u001b[0;34m(self, *args, **kwds)\u001b[0m\n\u001b[1;32m    887\u001b[0m \u001b[0;34m\u001b[0m\u001b[0m\n\u001b[1;32m    888\u001b[0m       \u001b[0;32mwith\u001b[0m \u001b[0mOptionalXlaContext\u001b[0m\u001b[0;34m(\u001b[0m\u001b[0mself\u001b[0m\u001b[0;34m.\u001b[0m\u001b[0m_jit_compile\u001b[0m\u001b[0;34m)\u001b[0m\u001b[0;34m:\u001b[0m\u001b[0;34m\u001b[0m\u001b[0;34m\u001b[0m\u001b[0m\n\u001b[0;32m--> 889\u001b[0;31m         \u001b[0mresult\u001b[0m \u001b[0;34m=\u001b[0m \u001b[0mself\u001b[0m\u001b[0;34m.\u001b[0m\u001b[0m_call\u001b[0m\u001b[0;34m(\u001b[0m\u001b[0;34m*\u001b[0m\u001b[0margs\u001b[0m\u001b[0;34m,\u001b[0m \u001b[0;34m**\u001b[0m\u001b[0mkwds\u001b[0m\u001b[0;34m)\u001b[0m\u001b[0;34m\u001b[0m\u001b[0;34m\u001b[0m\u001b[0m\n\u001b[0m\u001b[1;32m    890\u001b[0m \u001b[0;34m\u001b[0m\u001b[0m\n\u001b[1;32m    891\u001b[0m       \u001b[0mnew_tracing_count\u001b[0m \u001b[0;34m=\u001b[0m \u001b[0mself\u001b[0m\u001b[0;34m.\u001b[0m\u001b[0mexperimental_get_tracing_count\u001b[0m\u001b[0;34m(\u001b[0m\u001b[0;34m)\u001b[0m\u001b[0;34m\u001b[0m\u001b[0;34m\u001b[0m\u001b[0m\n",
      "\u001b[0;32m/usr/local/lib/python3.7/dist-packages/tensorflow/python/eager/def_function.py\u001b[0m in \u001b[0;36m_call\u001b[0;34m(self, *args, **kwds)\u001b[0m\n\u001b[1;32m    915\u001b[0m       \u001b[0;31m# In this case we have created variables on the first call, so we run the\u001b[0m\u001b[0;34m\u001b[0m\u001b[0;34m\u001b[0m\u001b[0;34m\u001b[0m\u001b[0m\n\u001b[1;32m    916\u001b[0m       \u001b[0;31m# defunned version which is guaranteed to never create variables.\u001b[0m\u001b[0;34m\u001b[0m\u001b[0;34m\u001b[0m\u001b[0;34m\u001b[0m\u001b[0m\n\u001b[0;32m--> 917\u001b[0;31m       \u001b[0;32mreturn\u001b[0m \u001b[0mself\u001b[0m\u001b[0;34m.\u001b[0m\u001b[0m_stateless_fn\u001b[0m\u001b[0;34m(\u001b[0m\u001b[0;34m*\u001b[0m\u001b[0margs\u001b[0m\u001b[0;34m,\u001b[0m \u001b[0;34m**\u001b[0m\u001b[0mkwds\u001b[0m\u001b[0;34m)\u001b[0m  \u001b[0;31m# pylint: disable=not-callable\u001b[0m\u001b[0;34m\u001b[0m\u001b[0;34m\u001b[0m\u001b[0m\n\u001b[0m\u001b[1;32m    918\u001b[0m     \u001b[0;32melif\u001b[0m \u001b[0mself\u001b[0m\u001b[0;34m.\u001b[0m\u001b[0m_stateful_fn\u001b[0m \u001b[0;32mis\u001b[0m \u001b[0;32mnot\u001b[0m \u001b[0;32mNone\u001b[0m\u001b[0;34m:\u001b[0m\u001b[0;34m\u001b[0m\u001b[0;34m\u001b[0m\u001b[0m\n\u001b[1;32m    919\u001b[0m       \u001b[0;31m# Release the lock early so that multiple threads can perform the call\u001b[0m\u001b[0;34m\u001b[0m\u001b[0;34m\u001b[0m\u001b[0;34m\u001b[0m\u001b[0m\n",
      "\u001b[0;32m/usr/local/lib/python3.7/dist-packages/tensorflow/python/eager/function.py\u001b[0m in \u001b[0;36m__call__\u001b[0;34m(self, *args, **kwargs)\u001b[0m\n\u001b[1;32m   3022\u001b[0m        filtered_flat_args) = self._maybe_define_function(args, kwargs)\n\u001b[1;32m   3023\u001b[0m     return graph_function._call_flat(\n\u001b[0;32m-> 3024\u001b[0;31m         filtered_flat_args, captured_inputs=graph_function.captured_inputs)  # pylint: disable=protected-access\n\u001b[0m\u001b[1;32m   3025\u001b[0m \u001b[0;34m\u001b[0m\u001b[0m\n\u001b[1;32m   3026\u001b[0m   \u001b[0;34m@\u001b[0m\u001b[0mproperty\u001b[0m\u001b[0;34m\u001b[0m\u001b[0;34m\u001b[0m\u001b[0m\n",
      "\u001b[0;32m/usr/local/lib/python3.7/dist-packages/tensorflow/python/eager/function.py\u001b[0m in \u001b[0;36m_call_flat\u001b[0;34m(self, args, captured_inputs, cancellation_manager)\u001b[0m\n\u001b[1;32m   1959\u001b[0m       \u001b[0;31m# No tape is watching; skip to running the function.\u001b[0m\u001b[0;34m\u001b[0m\u001b[0;34m\u001b[0m\u001b[0;34m\u001b[0m\u001b[0m\n\u001b[1;32m   1960\u001b[0m       return self._build_call_outputs(self._inference_function.call(\n\u001b[0;32m-> 1961\u001b[0;31m           ctx, args, cancellation_manager=cancellation_manager))\n\u001b[0m\u001b[1;32m   1962\u001b[0m     forward_backward = self._select_forward_and_backward_functions(\n\u001b[1;32m   1963\u001b[0m         \u001b[0margs\u001b[0m\u001b[0;34m,\u001b[0m\u001b[0;34m\u001b[0m\u001b[0;34m\u001b[0m\u001b[0m\n",
      "\u001b[0;32m/usr/local/lib/python3.7/dist-packages/tensorflow/python/eager/function.py\u001b[0m in \u001b[0;36mcall\u001b[0;34m(self, ctx, args, cancellation_manager)\u001b[0m\n\u001b[1;32m    594\u001b[0m               \u001b[0minputs\u001b[0m\u001b[0;34m=\u001b[0m\u001b[0margs\u001b[0m\u001b[0;34m,\u001b[0m\u001b[0;34m\u001b[0m\u001b[0;34m\u001b[0m\u001b[0m\n\u001b[1;32m    595\u001b[0m               \u001b[0mattrs\u001b[0m\u001b[0;34m=\u001b[0m\u001b[0mattrs\u001b[0m\u001b[0;34m,\u001b[0m\u001b[0;34m\u001b[0m\u001b[0;34m\u001b[0m\u001b[0m\n\u001b[0;32m--> 596\u001b[0;31m               ctx=ctx)\n\u001b[0m\u001b[1;32m    597\u001b[0m         \u001b[0;32melse\u001b[0m\u001b[0;34m:\u001b[0m\u001b[0;34m\u001b[0m\u001b[0;34m\u001b[0m\u001b[0m\n\u001b[1;32m    598\u001b[0m           outputs = execute.execute_with_cancellation(\n",
      "\u001b[0;32m/usr/local/lib/python3.7/dist-packages/tensorflow/python/eager/execute.py\u001b[0m in \u001b[0;36mquick_execute\u001b[0;34m(op_name, num_outputs, inputs, attrs, ctx, name)\u001b[0m\n\u001b[1;32m     58\u001b[0m     \u001b[0mctx\u001b[0m\u001b[0;34m.\u001b[0m\u001b[0mensure_initialized\u001b[0m\u001b[0;34m(\u001b[0m\u001b[0;34m)\u001b[0m\u001b[0;34m\u001b[0m\u001b[0;34m\u001b[0m\u001b[0m\n\u001b[1;32m     59\u001b[0m     tensors = pywrap_tfe.TFE_Py_Execute(ctx._handle, device_name, op_name,\n\u001b[0;32m---> 60\u001b[0;31m                                         inputs, attrs, num_outputs)\n\u001b[0m\u001b[1;32m     61\u001b[0m   \u001b[0;32mexcept\u001b[0m \u001b[0mcore\u001b[0m\u001b[0;34m.\u001b[0m\u001b[0m_NotOkStatusException\u001b[0m \u001b[0;32mas\u001b[0m \u001b[0me\u001b[0m\u001b[0;34m:\u001b[0m\u001b[0;34m\u001b[0m\u001b[0;34m\u001b[0m\u001b[0m\n\u001b[1;32m     62\u001b[0m     \u001b[0;32mif\u001b[0m \u001b[0mname\u001b[0m \u001b[0;32mis\u001b[0m \u001b[0;32mnot\u001b[0m \u001b[0;32mNone\u001b[0m\u001b[0;34m:\u001b[0m\u001b[0;34m\u001b[0m\u001b[0;34m\u001b[0m\u001b[0m\n",
      "\u001b[0;31mKeyboardInterrupt\u001b[0m: "
     ]
    }
   ],
   "metadata": {
    "colab": {
     "base_uri": "https://localhost:8080/",
     "height": 545
    },
    "id": "d4tSNwymzf-q",
    "outputId": "6a4f2cc4-4801-4241-bb09-2f23d250b772"
   }
  },
  {
   "cell_type": "code",
   "execution_count": null,
   "source": [
    "from google.colab import drive\r\n",
    "drive.mount('/content/drive')"
   ],
   "outputs": [
    {
     "output_type": "stream",
     "name": "stdout",
     "text": [
      "Mounted at /content/drive\n"
     ]
    }
   ],
   "metadata": {
    "colab": {
     "base_uri": "https://localhost:8080/"
    },
    "id": "ti-yx-Lgzop6",
    "outputId": "4aade508-c76f-43f9-e583-c803b767b2ad"
   }
  }
 ],
 "metadata": {
  "accelerator": "GPU",
  "colab": {
   "collapsed_sections": [],
   "name": "Copy of text_generation.ipynb",
   "provenance": []
  },
  "interpreter": {
   "hash": "fa7d8f851dd635f807211d08e335149ff9300ada7520eee4a4551fbef3d5c1f8"
  },
  "kernelspec": {
   "name": "python3",
   "display_name": "Python 3.8.10 64-bit"
  },
  "language_info": {
   "codemirror_mode": {
    "name": "ipython",
    "version": 3
   },
   "file_extension": ".py",
   "mimetype": "text/x-python",
   "name": "python",
   "nbconvert_exporter": "python",
   "pygments_lexer": "ipython3",
   "version": "3.8.10"
  }
 },
 "nbformat": 4,
 "nbformat_minor": 2
}